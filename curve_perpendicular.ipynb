{
 "metadata": {
  "language_info": {
   "codemirror_mode": {
    "name": "ipython",
    "version": 3
   },
   "file_extension": ".py",
   "mimetype": "text/x-python",
   "name": "python",
   "nbconvert_exporter": "python",
   "pygments_lexer": "ipython3",
   "version": "3.8.2-final"
  },
  "orig_nbformat": 2,
  "kernelspec": {
   "name": "python3",
   "display_name": "Python 3"
  }
 },
 "nbformat": 4,
 "nbformat_minor": 2,
 "cells": [
  {
   "cell_type": "code",
   "execution_count": 27,
   "metadata": {},
   "outputs": [],
   "source": [
    "import pandas as pd\n",
    "import math \n",
    "import numpy as np\n",
    "from numpy.linalg import norm\n",
    "from scipy import stats\n",
    "from obspy.geodetics import degrees2kilometers\n",
    "from time import time_ns"
   ]
  },
  {
   "source": [
    "def init_dataframe(path):\n",
    "    df = pd.read_csv(path, sep=',')\n",
    "    return df"
   ],
   "cell_type": "code",
   "metadata": {},
   "execution_count": 3,
   "outputs": []
  },
  {
   "cell_type": "code",
   "execution_count": 4,
   "metadata": {},
   "outputs": [],
   "source": [
    "ref1 = init_dataframe('data/ref1.csv')\n",
    "ref2 = init_dataframe('data/ref2.csv')"
   ]
  },
  {
   "cell_type": "code",
   "execution_count": 6,
   "metadata": {},
   "outputs": [
    {
     "output_type": "execute_result",
     "data": {
      "text/plain": [
       "         LAT        LON  GSPEED        CRS      NLAT       NLON       NCRS\n",
       "0  48.050451  17.569713    0.82  209.35145  48.05045  17.569712  208.75295\n",
       "1  48.050450  17.569712    0.89  208.75295  48.05045  17.569712  208.97508"
      ],
      "text/html": "<div>\n<style scoped>\n    .dataframe tbody tr th:only-of-type {\n        vertical-align: middle;\n    }\n\n    .dataframe tbody tr th {\n        vertical-align: top;\n    }\n\n    .dataframe thead th {\n        text-align: right;\n    }\n</style>\n<table border=\"1\" class=\"dataframe\">\n  <thead>\n    <tr style=\"text-align: right;\">\n      <th></th>\n      <th>LAT</th>\n      <th>LON</th>\n      <th>GSPEED</th>\n      <th>CRS</th>\n      <th>NLAT</th>\n      <th>NLON</th>\n      <th>NCRS</th>\n    </tr>\n  </thead>\n  <tbody>\n    <tr>\n      <th>0</th>\n      <td>48.050451</td>\n      <td>17.569713</td>\n      <td>0.82</td>\n      <td>209.35145</td>\n      <td>48.05045</td>\n      <td>17.569712</td>\n      <td>208.75295</td>\n    </tr>\n    <tr>\n      <th>1</th>\n      <td>48.050450</td>\n      <td>17.569712</td>\n      <td>0.89</td>\n      <td>208.75295</td>\n      <td>48.05045</td>\n      <td>17.569712</td>\n      <td>208.97508</td>\n    </tr>\n  </tbody>\n</table>\n</div>"
     },
     "metadata": {},
     "execution_count": 6
    }
   ],
   "source": [
    "ref2.head(2)"
   ]
  },
  {
   "cell_type": "code",
   "execution_count": 37,
   "metadata": {},
   "outputs": [
    {
     "output_type": "execute_result",
     "data": {
      "text/plain": [
       "         LAT        LON  GSPEED        CRS       NLAT       NLON       NCRS  \\\n",
       "0  48.049216  17.567882   21.44  212.85306  48.049200  17.567865  214.09550   \n",
       "1  48.049200  17.567865   21.59  214.09550  48.049184  17.567848  214.79764   \n",
       "\n",
       "        CMD  \n",
       "0  4.541553  \n",
       "1  3.492088  "
      ],
      "text/html": "<div>\n<style scoped>\n    .dataframe tbody tr th:only-of-type {\n        vertical-align: middle;\n    }\n\n    .dataframe tbody tr th {\n        vertical-align: top;\n    }\n\n    .dataframe thead th {\n        text-align: right;\n    }\n</style>\n<table border=\"1\" class=\"dataframe\">\n  <thead>\n    <tr style=\"text-align: right;\">\n      <th></th>\n      <th>LAT</th>\n      <th>LON</th>\n      <th>GSPEED</th>\n      <th>CRS</th>\n      <th>NLAT</th>\n      <th>NLON</th>\n      <th>NCRS</th>\n      <th>CMD</th>\n    </tr>\n  </thead>\n  <tbody>\n    <tr>\n      <th>0</th>\n      <td>48.049216</td>\n      <td>17.567882</td>\n      <td>21.44</td>\n      <td>212.85306</td>\n      <td>48.049200</td>\n      <td>17.567865</td>\n      <td>214.09550</td>\n      <td>4.541553</td>\n    </tr>\n    <tr>\n      <th>1</th>\n      <td>48.049200</td>\n      <td>17.567865</td>\n      <td>21.59</td>\n      <td>214.09550</td>\n      <td>48.049184</td>\n      <td>17.567848</td>\n      <td>214.79764</td>\n      <td>3.492088</td>\n    </tr>\n  </tbody>\n</table>\n</div>"
     },
     "metadata": {},
     "execution_count": 37
    }
   ],
   "source": [
    "lap = init_dataframe('data/laps/lap1-26.csv')\n",
    "lap.head(2)"
   ]
  },
  {
   "cell_type": "code",
   "execution_count": 16,
   "metadata": {},
   "outputs": [
    {
     "output_type": "execute_result",
     "data": {
      "text/plain": [
       "         LAT        LON\n",
       "0  48.049238  17.567861\n",
       "1  48.049235  17.567858"
      ],
      "text/html": "<div>\n<style scoped>\n    .dataframe tbody tr th:only-of-type {\n        vertical-align: middle;\n    }\n\n    .dataframe tbody tr th {\n        vertical-align: top;\n    }\n\n    .dataframe thead th {\n        text-align: right;\n    }\n</style>\n<table border=\"1\" class=\"dataframe\">\n  <thead>\n    <tr style=\"text-align: right;\">\n      <th></th>\n      <th>LAT</th>\n      <th>LON</th>\n    </tr>\n  </thead>\n  <tbody>\n    <tr>\n      <th>0</th>\n      <td>48.049238</td>\n      <td>17.567861</td>\n    </tr>\n    <tr>\n      <th>1</th>\n      <td>48.049235</td>\n      <td>17.567858</td>\n    </tr>\n  </tbody>\n</table>\n</div>"
     },
     "metadata": {},
     "execution_count": 16
    }
   ],
   "source": [
    "lap[['LAT','LON']].head(2)"
   ]
  },
  {
   "cell_type": "code",
   "execution_count": 38,
   "metadata": {},
   "outputs": [
    {
     "output_type": "execute_result",
     "data": {
      "text/plain": [
       "556"
      ]
     },
     "metadata": {},
     "execution_count": 38
    }
   ],
   "source": [
    "len(lap)"
   ]
  },
  {
   "cell_type": "code",
   "execution_count": 33,
   "metadata": {},
   "outputs": [],
   "source": [
    "def line_length(x1,y1,x2,y2):\n",
    "    return math.sqrt((x2 - x1)**2 + (y2 - y1)**2)\n",
    "\n",
    "def find_closest_point(point, lap):\n",
    "    minIndex = 0\n",
    "    minLength = math.inf\n",
    "    for i in lap.index:\n",
    "        lat = lap.loc[i].LAT\n",
    "        lon = lap.loc[i].LON\n",
    "        length = line_length(lat, lon, point.LAT, point.LON)\n",
    "        if length < minLength:\n",
    "            minIndex = i\n",
    "            minLength = length\n",
    "\n",
    "    return minIndex\n",
    "\n",
    "def find_angle_between_vectors(vector_A, vector_B):\n",
    "    unit_vector_A = vector_A / np.linalg.norm(vector_A) \n",
    "    unit_vector_B = vector_B / np.linalg.norm(vector_B)\n",
    "    dot_product = np.dot(unit_vector_A, unit_vector_B)\n",
    "    return np.arccos(dot_product)                       #return angle in radians \n",
    "\n",
    "def create_vector(point_A, point_B):\n",
    "    return [point_B.LAT - point_A.LAT, point_B.LON - point_A.LON]\n",
    "\n",
    "# Perdendicular from p1 to line (p2,p3)\n",
    "def shortest_distance(p1,p2,p3):  \n",
    "    dist = norm(np.cross(p2-p3, p3-p1))/norm(p3-p2)\n",
    "    return dist\n",
    "\n",
    "def shortest_distance2(x1, y1, a, b, c):  \n",
    "    perpendicular = abs((a * x1 + b * y1 + c)) / (math.sqrt(a ** 2 + b ** 2)) \n",
    "    return perpendicular\n",
    "\n",
    "def find_shortest_distance(p1, p2, p3):\n",
    "    x = np.array([p1.LAT, p1.LON])\n",
    "    y = np.array([p2.LAT, p2.LON])\n",
    "    z = np.array([p3.LAT, p3.LON])\n",
    "    return shortest_distance(x,y,z)\n",
    "\n",
    "def line_length(x1,y1,x2,y2):\n",
    "    return math.sqrt((x2 - x1)**2 + (y2 - y1)**2)"
   ]
  },
  {
   "cell_type": "code",
   "execution_count": 26,
   "metadata": {},
   "outputs": [
    {
     "output_type": "execute_result",
     "data": {
      "text/plain": [
       "0.0"
      ]
     },
     "metadata": {},
     "execution_count": 26
    }
   ],
   "source": [
    "x1 = 10\n",
    "y1 = 20\n",
    "a = 2\n",
    "b = -1\n",
    "c = 0\n",
    "shortest_distance(x1, y1, a, b, c)   "
   ]
  },
  {
   "cell_type": "code",
   "execution_count": 36,
   "metadata": {
    "tags": []
   },
   "outputs": [
    {
     "output_type": "stream",
     "name": "stdout",
     "text": [
      "Sum is 106441.4951730276cm\nAverage distance from reference lap is 102.54479303759884cm\n"
     ]
    }
   ],
   "source": [
    "sum_of_distances = 0\n",
    "distances = []\n",
    "\n",
    "for i in lap.index:\n",
    "    point = lap.loc[i]\n",
    "\n",
    "    closest_index = find_closest_point(point, ref1)\n",
    "    closest_point = ref1.loc[closest_index]\n",
    "\n",
    "    neighbor_i = len(ref1)-1 if closest_index == 0 else closest_index-1\n",
    "    neighbor1 = ref1.loc[neighbor_i]\n",
    "    neighbor_i = 0 if len(ref1) == closest_index+1 else closest_index+1\n",
    "    neighbor2 = ref1.loc[neighbor_i]\n",
    "\n",
    "    v1 = create_vector(closest_point, point)\n",
    "    v2 = create_vector(closest_point, neighbor1)\n",
    "    v3 = create_vector(closest_point, neighbor2)\n",
    "\n",
    "    angle1 = find_angle_between_vectors(v1,v2)\n",
    "    angle2 = find_angle_between_vectors(v1,v3)\n",
    "\n",
    "    degrees90 = math.pi/2\n",
    "    min_dist = -1\n",
    "    if angle1 > degrees90 and angle2 > degrees90:\n",
    "        min_dist = line_length(point.LAT, point.LON, closest_point.LAT, closest_point.LON)\n",
    "    elif angle1 < degrees90 and angle2 < degrees90:\n",
    "        dist1 = find_shortest_distance(point, closest_point, neighbor1)\n",
    "        dist2 = find_shortest_distance(point, closest_point, neighbor2)\n",
    "        min_dist = dist1 if dist1 <= dist2 else dist2\n",
    "    elif angle1 < degrees90:\n",
    "        min_dist = find_shortest_distance(point, closest_point, neighbor1)\n",
    "    elif angle2 < degrees90:\n",
    "        min_dist = find_shortest_distance(point, closest_point, neighbor2)\n",
    "\n",
    "    if min_dist == -1:\n",
    "        print ('ERROR: Could not find distance')       \n",
    "        print(\"Indices: {} {}\\nAngles: {} {}\".format(i, closest_index, angle1, angle2))\n",
    "    elif math.isnan(min_dist):\n",
    "        print(\"NAN value!!!\\nIndices: {} {}\\nAngles: {} {}\".format(i, closest_index, angle1, angle2))\n",
    "    elif min_dist < 0:\n",
    "        print(\"Negative value!!!\\nIndices: {} {}\\nAngles: {} {}\".format(i, closest_index, angle1, angle2))\n",
    "    else:\n",
    "        min_dist = degrees2kilometers(min_dist) * 100000    # in centimeters\n",
    "        sum_of_distances += min_dist\n",
    "        distances.append(min_dist)\n",
    "\n",
    "diff_df = pd.DataFrame({\"Distances\":distances})\n",
    "\n",
    "print (\"Sum is {}cm\".format(sum_of_distances))\n",
    "print (\"Average distance from reference lap is {}cm\".format(sum_of_distances/len(lap)))\n",
    "\n",
    "# with open('average_perpendiculars.txt', 'a') as file:\n",
    "#     file.write('{} cm\\n'.format(sum_of_distances/len(lap)))\n",
    "\n",
    "\n",
    "    "
   ]
  },
  {
   "cell_type": "code",
   "execution_count": 42,
   "metadata": {},
   "outputs": [
    {
     "output_type": "execute_result",
     "data": {
      "text/plain": [
       "Distances    102.544793\n",
       "dtype: float64"
      ]
     },
     "metadata": {},
     "execution_count": 42
    }
   ],
   "source": [
    "diff_df.sum()/len(diff_df)"
   ]
  },
  {
   "cell_type": "code",
   "execution_count": 100,
   "metadata": {},
   "outputs": [],
   "source": [
    "lap1_0 = pd.read_csv('data/1-0.csv',index_col=0)"
   ]
  },
  {
   "cell_type": "code",
   "execution_count": 99,
   "metadata": {},
   "outputs": [
    {
     "output_type": "execute_result",
     "data": {
      "text/plain": [
       "   lap1-0.csv  lap1-0.csv (from view of ref lap)\n",
       "0   44.521917                           9.435202\n",
       "1   59.509375                           8.468353"
      ],
      "text/html": "<div>\n<style scoped>\n    .dataframe tbody tr th:only-of-type {\n        vertical-align: middle;\n    }\n\n    .dataframe tbody tr th {\n        vertical-align: top;\n    }\n\n    .dataframe thead th {\n        text-align: right;\n    }\n</style>\n<table border=\"1\" class=\"dataframe\">\n  <thead>\n    <tr style=\"text-align: right;\">\n      <th></th>\n      <th>lap1-0.csv</th>\n      <th>lap1-0.csv (from view of ref lap)</th>\n    </tr>\n  </thead>\n  <tbody>\n    <tr>\n      <th>0</th>\n      <td>44.521917</td>\n      <td>9.435202</td>\n    </tr>\n    <tr>\n      <th>1</th>\n      <td>59.509375</td>\n      <td>8.468353</td>\n    </tr>\n  </tbody>\n</table>\n</div>"
     },
     "metadata": {},
     "execution_count": 99
    }
   ],
   "source": [
    "lap1_0.head(2)"
   ]
  },
  {
   "cell_type": "code",
   "execution_count": 109,
   "metadata": {},
   "outputs": [
    {
     "output_type": "execute_result",
     "data": {
      "text/plain": [
       "(613.21327076199998, 612.71149384800003)"
      ]
     },
     "metadata": {},
     "execution_count": 109
    }
   ],
   "source": [
    "lap1_0['lap1-0.csv'].max(), \\\n",
    "lap1_0['lap1-0.csv (from view of ref lap)'].max()"
   ]
  },
  {
   "cell_type": "code",
   "execution_count": 110,
   "metadata": {},
   "outputs": [
    {
     "output_type": "execute_result",
     "data": {
      "text/plain": [
       "(0.023808518632999997, 0.103757408482)"
      ]
     },
     "metadata": {},
     "execution_count": 110
    }
   ],
   "source": [
    "lap1_0['lap1-0.csv'].min(), \\\n",
    "lap1_0['lap1-0.csv (from view of ref lap)'].min()"
   ]
  },
  {
   "cell_type": "code",
   "execution_count": 113,
   "metadata": {},
   "outputs": [
    {
     "output_type": "execute_result",
     "data": {
      "text/plain": [
       "(88.010888204534723, 115.55902806110871)"
      ]
     },
     "metadata": {},
     "execution_count": 113
    }
   ],
   "source": [
    "lap1_0['lap1-0.csv'].mean(), \\\n",
    "lap1_0['lap1-0.csv (from view of ref lap)'].mean()"
   ]
  }
 ]
}