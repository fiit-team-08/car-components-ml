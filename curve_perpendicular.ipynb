{
 "metadata": {
  "language_info": {
   "codemirror_mode": {
    "name": "ipython",
    "version": 3
   },
   "file_extension": ".py",
   "mimetype": "text/x-python",
   "name": "python",
   "nbconvert_exporter": "python",
   "pygments_lexer": "ipython3",
   "version": "3.8.2-final"
  },
  "orig_nbformat": 2,
  "kernelspec": {
   "name": "python3",
   "display_name": "Python 3"
  }
 },
 "nbformat": 4,
 "nbformat_minor": 2,
 "cells": [
  {
   "cell_type": "code",
   "execution_count": 41,
   "metadata": {},
   "outputs": [],
   "source": [
    "import pandas as pd\n",
    "import math \n",
    "import numpy as np\n",
    "from scipy import stats\n",
    "from obspy.geodetics import degrees2kilometers"
   ]
  },
  {
   "cell_type": "code",
   "execution_count": 2,
   "metadata": {},
   "outputs": [],
   "source": [
    "def init_dataframe(path):\n",
    "    df = pd.read_csv(path, sep=',')\n",
    "    return df"
   ]
  },
  {
   "cell_type": "code",
   "execution_count": 3,
   "metadata": {},
   "outputs": [],
   "source": [
    "ref1 = init_dataframe('data/ref1.csv')\n",
    "ref2 = init_dataframe('data/ref2.csv')"
   ]
  },
  {
   "cell_type": "code",
   "execution_count": 4,
   "metadata": {},
   "outputs": [
    {
     "output_type": "execute_result",
     "data": {
      "text/plain": [
       "         LAT        LON  GSPEED        CRS       NLAT       NLON       NCRS\n",
       "0  48.050451  17.569713    0.82  209.35145  48.050450  17.569712  208.75295\n",
       "1  48.050450  17.569712    0.89  208.75295  48.050450  17.569712  208.97508\n",
       "2  48.050450  17.569712    0.93  208.97508  48.050449  17.569711  209.55402\n",
       "3  48.050449  17.569711    0.93  209.55402  48.050448  17.569710  208.77161"
      ],
      "text/html": "<div>\n<style scoped>\n    .dataframe tbody tr th:only-of-type {\n        vertical-align: middle;\n    }\n\n    .dataframe tbody tr th {\n        vertical-align: top;\n    }\n\n    .dataframe thead th {\n        text-align: right;\n    }\n</style>\n<table border=\"1\" class=\"dataframe\">\n  <thead>\n    <tr style=\"text-align: right;\">\n      <th></th>\n      <th>LAT</th>\n      <th>LON</th>\n      <th>GSPEED</th>\n      <th>CRS</th>\n      <th>NLAT</th>\n      <th>NLON</th>\n      <th>NCRS</th>\n    </tr>\n  </thead>\n  <tbody>\n    <tr>\n      <th>0</th>\n      <td>48.050451</td>\n      <td>17.569713</td>\n      <td>0.82</td>\n      <td>209.35145</td>\n      <td>48.050450</td>\n      <td>17.569712</td>\n      <td>208.75295</td>\n    </tr>\n    <tr>\n      <th>1</th>\n      <td>48.050450</td>\n      <td>17.569712</td>\n      <td>0.89</td>\n      <td>208.75295</td>\n      <td>48.050450</td>\n      <td>17.569712</td>\n      <td>208.97508</td>\n    </tr>\n    <tr>\n      <th>2</th>\n      <td>48.050450</td>\n      <td>17.569712</td>\n      <td>0.93</td>\n      <td>208.97508</td>\n      <td>48.050449</td>\n      <td>17.569711</td>\n      <td>209.55402</td>\n    </tr>\n    <tr>\n      <th>3</th>\n      <td>48.050449</td>\n      <td>17.569711</td>\n      <td>0.93</td>\n      <td>209.55402</td>\n      <td>48.050448</td>\n      <td>17.569710</td>\n      <td>208.77161</td>\n    </tr>\n  </tbody>\n</table>\n</div>"
     },
     "metadata": {},
     "execution_count": 4
    }
   ],
   "source": [
    "ref2.head(4)"
   ]
  },
  {
   "cell_type": "code",
   "execution_count": 5,
   "metadata": {},
   "outputs": [
    {
     "output_type": "execute_result",
     "data": {
      "text/plain": [
       "         LAT        LON  GSPEED  CRS       NLAT       NLON  NCRS\n",
       "0  48.049231  17.567851    0.00  0.0  48.049231  17.567849   0.0\n",
       "1  48.049231  17.567849    0.04  0.0  48.049231  17.567849   0.0"
      ],
      "text/html": "<div>\n<style scoped>\n    .dataframe tbody tr th:only-of-type {\n        vertical-align: middle;\n    }\n\n    .dataframe tbody tr th {\n        vertical-align: top;\n    }\n\n    .dataframe thead th {\n        text-align: right;\n    }\n</style>\n<table border=\"1\" class=\"dataframe\">\n  <thead>\n    <tr style=\"text-align: right;\">\n      <th></th>\n      <th>LAT</th>\n      <th>LON</th>\n      <th>GSPEED</th>\n      <th>CRS</th>\n      <th>NLAT</th>\n      <th>NLON</th>\n      <th>NCRS</th>\n    </tr>\n  </thead>\n  <tbody>\n    <tr>\n      <th>0</th>\n      <td>48.049231</td>\n      <td>17.567851</td>\n      <td>0.00</td>\n      <td>0.0</td>\n      <td>48.049231</td>\n      <td>17.567849</td>\n      <td>0.0</td>\n    </tr>\n    <tr>\n      <th>1</th>\n      <td>48.049231</td>\n      <td>17.567849</td>\n      <td>0.04</td>\n      <td>0.0</td>\n      <td>48.049231</td>\n      <td>17.567849</td>\n      <td>0.0</td>\n    </tr>\n  </tbody>\n</table>\n</div>"
     },
     "metadata": {},
     "execution_count": 5
    }
   ],
   "source": [
    "lap = init_dataframe('data/laps/lap1-0.csv')\n",
    "lap.head(2)"
   ]
  },
  {
   "cell_type": "code",
   "execution_count": 6,
   "metadata": {},
   "outputs": [
    {
     "output_type": "execute_result",
     "data": {
      "text/plain": [
       "         LAT        LON\n",
       "0  48.049231  17.567851\n",
       "1  48.049231  17.567849\n",
       "2  48.049231  17.567849\n",
       "3  48.049229  17.567850"
      ],
      "text/html": "<div>\n<style scoped>\n    .dataframe tbody tr th:only-of-type {\n        vertical-align: middle;\n    }\n\n    .dataframe tbody tr th {\n        vertical-align: top;\n    }\n\n    .dataframe thead th {\n        text-align: right;\n    }\n</style>\n<table border=\"1\" class=\"dataframe\">\n  <thead>\n    <tr style=\"text-align: right;\">\n      <th></th>\n      <th>LAT</th>\n      <th>LON</th>\n    </tr>\n  </thead>\n  <tbody>\n    <tr>\n      <th>0</th>\n      <td>48.049231</td>\n      <td>17.567851</td>\n    </tr>\n    <tr>\n      <th>1</th>\n      <td>48.049231</td>\n      <td>17.567849</td>\n    </tr>\n    <tr>\n      <th>2</th>\n      <td>48.049231</td>\n      <td>17.567849</td>\n    </tr>\n    <tr>\n      <th>3</th>\n      <td>48.049229</td>\n      <td>17.567850</td>\n    </tr>\n  </tbody>\n</table>\n</div>"
     },
     "metadata": {},
     "execution_count": 6
    }
   ],
   "source": [
    "lap[['LAT','LON']].head(4)"
   ]
  },
  {
   "cell_type": "code",
   "execution_count": 38,
   "metadata": {},
   "outputs": [],
   "source": [
    "def line_length(x1,y1,x2,y2):\n",
    "    return math.sqrt((x2 - x1)**2 + (y2 - y1)**2)\n",
    "\n",
    "def find_closest_point(point, lap):\n",
    "    minIndex = 0\n",
    "    minLength = math.inf\n",
    "    for i in lap.index:\n",
    "        lat = lap.loc[i].LAT\n",
    "        lon = lap.loc[i].LON\n",
    "\n",
    "        length = line_length(lat, lon, point.LAT, point.LON)\n",
    "        if length < minLength:\n",
    "            minIndex = i\n",
    "            minLength = length\n",
    "\n",
    "    return minIndex\n",
    "\n",
    "def find_angle_between_vectors(vector_A, vector_B):\n",
    "    unit_vector_A = vector_A / np.linalg.norm(vector_A) \n",
    "    unit_vector_B = vector_B / np.linalg.norm(vector_B)\n",
    "    dot_product = np.dot(unit_vector_A, unit_vector_B)\n",
    "    return np.arccos(dot_product)                       #return angle in radians \n",
    "\n",
    "def create_vector(point_A, point_B):\n",
    "    return [point_B.LAT - point_A.LAT, point_B.LON - point_A.LON]\n",
    "\n",
    "def shortest_distance(x1, y1, a, b, c):  \n",
    "    perpendicular = abs((a * x1 + b * y1 + c)) / (math.sqrt(a ** 2 + b ** 2)) \n",
    "    return perpendicular\n",
    "\n",
    "def find_shortest_distance(point1, point2, point3):\n",
    "        x = [point2.LAT, point3.LAT]\n",
    "        y = [point2.LON, point3.LON]\n",
    "        slope , intercept,_,_,_ = stats.linregress(x, y)\n",
    "        return shortest_distance(point1.LAT, point1.LON, slope, -1, intercept)"
   ]
  },
  {
   "cell_type": "code",
   "execution_count": null,
   "metadata": {},
   "outputs": [],
   "source": [
    "def line_length(x1,y1,x2,y2):\n",
    "    return math.sqrt((x2 - x1)**2 + (y2 - y1)**2)"
   ]
  },
  {
   "cell_type": "code",
   "execution_count": 9,
   "metadata": {},
   "outputs": [
    {
     "output_type": "stream",
     "name": "stdout",
     "text": [
      "2.0 0.0\n"
     ]
    }
   ],
   "source": [
    "x = [10,15]\n",
    "y = [20,30]\n",
    "slope, intercept, _, _, _ = stats.linregress(x,y)\n",
    "print(slope, intercept)"
   ]
  },
  {
   "cell_type": "code",
   "execution_count": 29,
   "metadata": {},
   "outputs": [
    {
     "output_type": "stream",
     "name": "stdout",
     "text": [
      "Perpendicular distance is 0.0\n"
     ]
    }
   ],
   "source": [
    "x1 = 10\n",
    "y1 = 20\n",
    "a = 2\n",
    "b = -1\n",
    "c = 0\n",
    "shortest_distance(x1, y1, a, b, c)   "
   ]
  },
  {
   "cell_type": "code",
   "execution_count": 45,
   "metadata": {
    "tags": []
   },
   "outputs": [
    {
     "output_type": "stream",
     "name": "stdout",
     "text": [
      "Sum is nancm\nAverage distance from reference lap is nancm\n"
     ]
    }
   ],
   "source": [
    "sum_of_distances = 0\n",
    "for i in lap.index:\n",
    "    point = lap.loc[i]\n",
    "\n",
    "    closest_index = find_closest_point(point, ref1)\n",
    "    closest_point = ref1.loc[closest_index]\n",
    "\n",
    "    neighbor_i = len(ref1)-1 if closest_index == 0 else closest_index-1\n",
    "    neighbor1 = ref1.loc[neighbor_i]\n",
    "    neighbor_i = 0 if len(ref1) == closest_index+1 else closest_index+1\n",
    "    neighbor2 = ref1.loc[neighbor_i]\n",
    "\n",
    "    v1 = create_vector(closest_point, point)\n",
    "    v2 = create_vector(closest_point, neighbor1)\n",
    "    v3 = create_vector(closest_point, neighbor2)\n",
    "\n",
    "    angle1 = find_angle_between_vectors(v1,v2)\n",
    "    angle2 = find_angle_between_vectors(v1,v3)\n",
    "\n",
    "    degrees90 = math.pi/2\n",
    "    min_dist = -1\n",
    "    if angle1 > degrees90 and angle2 > degrees90:\n",
    "        min_dist = line_length(point.LAT, point.LON, closest_point.LAT, closest_point.LON)\n",
    "    elif angle1 < degrees90 and angle2 < degrees90:\n",
    "        dist1 = find_shortest_distance(point, closest_point, neighbor1)\n",
    "        dist2 = find_shortest_distance(point, closest_point, neighbor2)\n",
    "        min_dist = dist1 if dist1 <= dist2 else dist2\n",
    "    elif angle1 < degrees90:\n",
    "        min_dist = find_shortest_distance(point, closest_point, neighbor1)\n",
    "    elif angle2 < degrees90:\n",
    "        min_dist = find_shortest_distance(point, closest_point, neighbor2)\n",
    "\n",
    "    if min_dist == -1:\n",
    "        print ('ERROR: Could not find distance')       \n",
    "        print(\"Indices: {} {}\\nAngles: {} {}\".format(i, closest_index, angle1, angle2))\n",
    "    elif math.isnan(min_dist):\n",
    "        print(\"NAN value!!!\\nIndices: {} {}\\nAngles: {} {}\".format(i, closest_index, angle1, angle2))\n",
    "    elif min_dist < 0:\n",
    "        print(\"Negative value!!!\\nIndices: {} {}\\nAngles: {} {}\".format(i, closest_index, angle1, angle2))\n",
    "    else:\n",
    "        min_dist = degrees2kilometers(min_dist) * 100000    # in centimeters\n",
    "        sum_of_distances += min_dist        \n",
    "    \n",
    "print (\"Sum is {}cm\".format(sum_of_distances))\n",
    "print (\"Average distance from reference lap is {}cm\".format(sum_of_distances/len(lap)))\n",
    "\n",
    "with open('average_perpendiculars.txt', 'a') as file:\n",
    "    file.write('{} cm\\n'.format(sum_of_distances/len(lap)))\n",
    "\n",
    "\n",
    "    "
   ]
  }
 ]
}