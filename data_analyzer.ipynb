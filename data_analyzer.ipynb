{
 "cells": [
  {
   "cell_type": "code",
   "execution_count": 5,
   "metadata": {
    "pycharm": {
     "name": "#%%\n",
     "is_executing": false
    }
   },
   "outputs": [],
   "source": [
    "import pandas as pd\n",
    "import numpy as np\n",
    "import matplotlib.pyplot as plt\n",
    "from sympy import Point, Segment\n",
    "from scipy.spatial import distance\n",
    "import math"
   ]
  },
  {
   "cell_type": "markdown",
   "metadata": {},
   "source": [
    "### Reference sample for trace 1 + more traces"
   ]
  },
  {
   "cell_type": "code",
   "execution_count": 6,
   "metadata": {
    "pycharm": {
     "name": "#%%\n",
     "is_executing": false
    }
   },
   "outputs": [],
   "source": [
    "ref1 = pd.read_csv('data/feri_logy_analyza/200629_karting/kartfinal36pr3r.csv', header=None, sep=';')"
   ]
  },
  {
   "cell_type": "code",
   "execution_count": 7,
   "metadata": {
    "pycharm": {
     "name": "#%%\n",
     "is_executing": false
    }
   },
   "outputs": [],
   "source": [
    "ref1 = ref1.drop(columns=[0, 1, 3, 5, 7, 9, 11, 13, 15, 17])\n",
    "ref1.columns = ['LAT', 'LON', 'UTMX', 'UTMY', 'HMSL', 'GSPEED', 'CRS', 'HACC', 'NXPT']"
   ]
  },
  {
   "cell_type": "code",
   "execution_count": 8,
   "metadata": {
    "pycharm": {
     "name": "#%%\n",
     "is_executing": false
    }
   },
   "outputs": [
    {
     "data": {
      "text/plain": "            LAT        LON      UTMX       UTMY    HMSL  GSPEED       CRS  \\\n0     480492143  175678361  69136003  532496037  119322     108  21910375   \n1     480492134  175678352  69135997  532496027  119324     103  21570312   \n2     480492127  175678343  69135990  532496019  119315     111  21556731   \n3     480492119  175678334  69135984  532496010  119315     112  21661797   \n4     480492111  175678325  69135977  532496001  119313     105  21701829   \n...         ...        ...       ...        ...     ...     ...       ...   \n1416  480492388  175678675  69136228  532496318  119330      97  21431455   \n1417  480492381  175678669  69136224  532496310  119324      84  21663436   \n1418  480492376  175678662  69136219  532496304  119318      81  21529932   \n1419  480492371  175678657  69136215  532496298  119321      80  21579600   \n1420  480492366  175678652  69136212  532496293  119316      68  21469375   \n\n      HACC  NXPT  \n0      141     5  \n1      141     6  \n2      141     8  \n3      141     9  \n4      141    10  \n...    ...   ...  \n1416   141     1  \n1417   141     1  \n1418   141     1  \n1419   141     1  \n1420   141     1  \n\n[1421 rows x 9 columns]",
      "text/html": "<div>\n<style scoped>\n    .dataframe tbody tr th:only-of-type {\n        vertical-align: middle;\n    }\n\n    .dataframe tbody tr th {\n        vertical-align: top;\n    }\n\n    .dataframe thead th {\n        text-align: right;\n    }\n</style>\n<table border=\"1\" class=\"dataframe\">\n  <thead>\n    <tr style=\"text-align: right;\">\n      <th></th>\n      <th>LAT</th>\n      <th>LON</th>\n      <th>UTMX</th>\n      <th>UTMY</th>\n      <th>HMSL</th>\n      <th>GSPEED</th>\n      <th>CRS</th>\n      <th>HACC</th>\n      <th>NXPT</th>\n    </tr>\n  </thead>\n  <tbody>\n    <tr>\n      <th>0</th>\n      <td>480492143</td>\n      <td>175678361</td>\n      <td>69136003</td>\n      <td>532496037</td>\n      <td>119322</td>\n      <td>108</td>\n      <td>21910375</td>\n      <td>141</td>\n      <td>5</td>\n    </tr>\n    <tr>\n      <th>1</th>\n      <td>480492134</td>\n      <td>175678352</td>\n      <td>69135997</td>\n      <td>532496027</td>\n      <td>119324</td>\n      <td>103</td>\n      <td>21570312</td>\n      <td>141</td>\n      <td>6</td>\n    </tr>\n    <tr>\n      <th>2</th>\n      <td>480492127</td>\n      <td>175678343</td>\n      <td>69135990</td>\n      <td>532496019</td>\n      <td>119315</td>\n      <td>111</td>\n      <td>21556731</td>\n      <td>141</td>\n      <td>8</td>\n    </tr>\n    <tr>\n      <th>3</th>\n      <td>480492119</td>\n      <td>175678334</td>\n      <td>69135984</td>\n      <td>532496010</td>\n      <td>119315</td>\n      <td>112</td>\n      <td>21661797</td>\n      <td>141</td>\n      <td>9</td>\n    </tr>\n    <tr>\n      <th>4</th>\n      <td>480492111</td>\n      <td>175678325</td>\n      <td>69135977</td>\n      <td>532496001</td>\n      <td>119313</td>\n      <td>105</td>\n      <td>21701829</td>\n      <td>141</td>\n      <td>10</td>\n    </tr>\n    <tr>\n      <th>...</th>\n      <td>...</td>\n      <td>...</td>\n      <td>...</td>\n      <td>...</td>\n      <td>...</td>\n      <td>...</td>\n      <td>...</td>\n      <td>...</td>\n      <td>...</td>\n    </tr>\n    <tr>\n      <th>1416</th>\n      <td>480492388</td>\n      <td>175678675</td>\n      <td>69136228</td>\n      <td>532496318</td>\n      <td>119330</td>\n      <td>97</td>\n      <td>21431455</td>\n      <td>141</td>\n      <td>1</td>\n    </tr>\n    <tr>\n      <th>1417</th>\n      <td>480492381</td>\n      <td>175678669</td>\n      <td>69136224</td>\n      <td>532496310</td>\n      <td>119324</td>\n      <td>84</td>\n      <td>21663436</td>\n      <td>141</td>\n      <td>1</td>\n    </tr>\n    <tr>\n      <th>1418</th>\n      <td>480492376</td>\n      <td>175678662</td>\n      <td>69136219</td>\n      <td>532496304</td>\n      <td>119318</td>\n      <td>81</td>\n      <td>21529932</td>\n      <td>141</td>\n      <td>1</td>\n    </tr>\n    <tr>\n      <th>1419</th>\n      <td>480492371</td>\n      <td>175678657</td>\n      <td>69136215</td>\n      <td>532496298</td>\n      <td>119321</td>\n      <td>80</td>\n      <td>21579600</td>\n      <td>141</td>\n      <td>1</td>\n    </tr>\n    <tr>\n      <th>1420</th>\n      <td>480492366</td>\n      <td>175678652</td>\n      <td>69136212</td>\n      <td>532496293</td>\n      <td>119316</td>\n      <td>68</td>\n      <td>21469375</td>\n      <td>141</td>\n      <td>1</td>\n    </tr>\n  </tbody>\n</table>\n<p>1421 rows × 9 columns</p>\n</div>"
     },
     "metadata": {},
     "output_type": "execute_result",
     "execution_count": 8
    }
   ],
   "source": [
    "ref1"
   ]
  },
  {
   "cell_type": "code",
   "execution_count": 9,
   "metadata": {
    "pycharm": {
     "name": "#%%\n",
     "is_executing": false
    }
   },
   "outputs": [],
   "source": [
    "traces1 = pd.read_csv('data/feri_logy_analyza/200629_karting/200629130554_gps.log', header=None, sep=';')"
   ]
  },
  {
   "cell_type": "code",
   "execution_count": 10,
   "metadata": {
    "pycharm": {
     "name": "#%%\n",
     "is_executing": false
    }
   },
   "outputs": [],
   "source": [
    "traces1 = traces1.drop(columns=[0, 1, 3, 5, 7, 9, 11, 13, 15, 17])\n",
    "traces1.columns = ['LAT', 'LON', 'UTMX', 'UTMY', 'HMSL', 'GSPEED', 'CRS', 'HACC', 'NXPT']"
   ]
  },
  {
   "cell_type": "code",
   "execution_count": 11,
   "metadata": {
    "pycharm": {
     "name": "#%%\n",
     "is_executing": false
    }
   },
   "outputs": [
    {
     "data": {
      "text/plain": "<Figure size 432x288 with 1 Axes>",
      "image/png": "[encoded data removed]"
     },
     "metadata": {},
     "output_type": "display_data"
    }
   ],
   "source": [
    "fig = plt.figure()\n",
    "for frame in [traces1, ref1]:\n",
    "    plt.plot(frame['LON'], frame['LAT'])"
   ]
  },
  {
   "cell_type": "markdown",
   "metadata": {},
   "source": [
    "### Reference sample for trace 2 + more traces"
   ]
  },
  {
   "cell_type": "code",
   "execution_count": 12,
   "metadata": {
    "pycharm": {
     "name": "#%%\n",
     "is_executing": false
    }
   },
   "outputs": [],
   "source": [
    "ref2 = pd.read_csv('data/200623_academy/trasa23.csv', header=None, sep=';')\n",
    "ref2 = ref2.drop(columns=[0, 1, 3, 5, 7, 9, 11, 13, 15, 17])\n",
    "ref2.columns = ['LAT', 'LON', 'UTMX', 'UTMY', 'HMSL', 'GSPEED', 'CRS', 'HACC', 'NXPT']"
   ]
  },
  {
   "cell_type": "code",
   "execution_count": 13,
   "metadata": {
    "pycharm": {
     "name": "#%%\n",
     "is_executing": false
    }
   },
   "outputs": [],
   "source": [
    "traces2 = pd.read_csv('data/200623_academy/200623111152_gps.log', header=None, sep=';')\n",
    "traces2 = traces2.drop(columns=[0, 1, 3, 5, 7, 9, 11, 13, 15, 17])\n",
    "traces2.columns = ['LAT', 'LON', 'UTMX', 'UTMY', 'HMSL', 'GSPEED', 'CRS', 'HACC', 'NXPT']"
   ]
  },
  {
   "cell_type": "code",
   "execution_count": 14,
   "metadata": {
    "pycharm": {
     "name": "#%%\n",
     "is_executing": false
    }
   },
   "outputs": [
    {
     "data": {
      "text/plain": "<Figure size 432x288 with 1 Axes>",
      "image/png": "[encoded data removed]"
     },
     "metadata": {},
     "output_type": "display_data"
    }
   ],
   "source": [
    "fig2 = plt.figure()\n",
    "for frame in [traces2, ref2]:\n",
    "    plt.plot(frame['LON'], frame['LAT'])"
   ]
  },
  {
   "cell_type": "code",
   "execution_count": 15,
   "metadata": {
    "pycharm": {
     "name": "#%%\n",
     "is_executing": false
    }
   },
   "outputs": [],
   "source": [
    "traces3 = pd.read_csv('data/200623_academy/200623121213_gps.log', header=None, sep=';')\n",
    "traces3 = traces3.drop(columns=[0, 1, 3, 5, 7, 9, 11, 13, 15, 17])\n",
    "traces3.columns = ['LAT', 'LON', 'UTMX', 'UTMY', 'HMSL', 'GSPEED', 'CRS', 'HACC', 'NXPT']"
   ]
  },
  {
   "cell_type": "code",
   "execution_count": 16,
   "metadata": {
    "pycharm": {
     "name": "#%%\n",
     "is_executing": false
    }
   },
   "outputs": [
    {
     "data": {
      "text/plain": "<Figure size 432x288 with 1 Axes>",
      "image/png": "[encoded data removed]"
     },
     "metadata": {},
     "output_type": "display_data"
    }
   ],
   "source": [
    "fig3 = plt.figure()\n",
    "for frame in [traces3, ref2]:\n",
    "    plt.plot(frame['LON'], frame['LAT'])"
   ]
  },
  {
   "cell_type": "markdown",
   "metadata": {},
   "source": [
    "### Data normalization"
   ]
  },
  {
   "cell_type": "code",
   "execution_count": 17,
   "metadata": {
    "pycharm": {
     "name": "#%%\n",
     "is_executing": false
    }
   },
   "outputs": [],
   "source": [
    "# divide lat and lon by 10 000 000\n",
    "for frame in [ref1, traces1, ref2, traces2, traces3]:\n",
    "    frame['LAT'] = frame['LAT'].apply(lambda x: x * 0.0000001)\n",
    "    frame['LON'] = frame['LON'].apply(lambda x: x * 0.0000001)"
   ]
  },
  {
   "cell_type": "code",
   "execution_count": 18,
   "metadata": {
    "pycharm": {
     "name": "#%%\n",
     "is_executing": false
    }
   },
   "outputs": [
    {
     "data": {
      "text/plain": "            LAT        LON      UTMX       UTMY    HMSL  GSPEED       CRS  \\\n0     48.049214  17.567836  69136003  532496037  119322     108  21910375   \n1     48.049213  17.567835  69135997  532496027  119324     103  21570312   \n2     48.049213  17.567834  69135990  532496019  119315     111  21556731   \n3     48.049212  17.567833  69135984  532496010  119315     112  21661797   \n4     48.049211  17.567832  69135977  532496001  119313     105  21701829   \n...         ...        ...       ...        ...     ...     ...       ...   \n1416  48.049239  17.567867  69136228  532496318  119330      97  21431455   \n1417  48.049238  17.567867  69136224  532496310  119324      84  21663436   \n1418  48.049238  17.567866  69136219  532496304  119318      81  21529932   \n1419  48.049237  17.567866  69136215  532496298  119321      80  21579600   \n1420  48.049237  17.567865  69136212  532496293  119316      68  21469375   \n\n      HACC  NXPT  \n0      141     5  \n1      141     6  \n2      141     8  \n3      141     9  \n4      141    10  \n...    ...   ...  \n1416   141     1  \n1417   141     1  \n1418   141     1  \n1419   141     1  \n1420   141     1  \n\n[1421 rows x 9 columns]",
      "text/html": "<div>\n<style scoped>\n    .dataframe tbody tr th:only-of-type {\n        vertical-align: middle;\n    }\n\n    .dataframe tbody tr th {\n        vertical-align: top;\n    }\n\n    .dataframe thead th {\n        text-align: right;\n    }\n</style>\n<table border=\"1\" class=\"dataframe\">\n  <thead>\n    <tr style=\"text-align: right;\">\n      <th></th>\n      <th>LAT</th>\n      <th>LON</th>\n      <th>UTMX</th>\n      <th>UTMY</th>\n      <th>HMSL</th>\n      <th>GSPEED</th>\n      <th>CRS</th>\n      <th>HACC</th>\n      <th>NXPT</th>\n    </tr>\n  </thead>\n  <tbody>\n    <tr>\n      <th>0</th>\n      <td>48.049214</td>\n      <td>17.567836</td>\n      <td>69136003</td>\n      <td>532496037</td>\n      <td>119322</td>\n      <td>108</td>\n      <td>21910375</td>\n      <td>141</td>\n      <td>5</td>\n    </tr>\n    <tr>\n      <th>1</th>\n      <td>48.049213</td>\n      <td>17.567835</td>\n      <td>69135997</td>\n      <td>532496027</td>\n      <td>119324</td>\n      <td>103</td>\n      <td>21570312</td>\n      <td>141</td>\n      <td>6</td>\n    </tr>\n    <tr>\n      <th>2</th>\n      <td>48.049213</td>\n      <td>17.567834</td>\n      <td>69135990</td>\n      <td>532496019</td>\n      <td>119315</td>\n      <td>111</td>\n      <td>21556731</td>\n      <td>141</td>\n      <td>8</td>\n    </tr>\n    <tr>\n      <th>3</th>\n      <td>48.049212</td>\n      <td>17.567833</td>\n      <td>69135984</td>\n      <td>532496010</td>\n      <td>119315</td>\n      <td>112</td>\n      <td>21661797</td>\n      <td>141</td>\n      <td>9</td>\n    </tr>\n    <tr>\n      <th>4</th>\n      <td>48.049211</td>\n      <td>17.567832</td>\n      <td>69135977</td>\n      <td>532496001</td>\n      <td>119313</td>\n      <td>105</td>\n      <td>21701829</td>\n      <td>141</td>\n      <td>10</td>\n    </tr>\n    <tr>\n      <th>...</th>\n      <td>...</td>\n      <td>...</td>\n      <td>...</td>\n      <td>...</td>\n      <td>...</td>\n      <td>...</td>\n      <td>...</td>\n      <td>...</td>\n      <td>...</td>\n    </tr>\n    <tr>\n      <th>1416</th>\n      <td>48.049239</td>\n      <td>17.567867</td>\n      <td>69136228</td>\n      <td>532496318</td>\n      <td>119330</td>\n      <td>97</td>\n      <td>21431455</td>\n      <td>141</td>\n      <td>1</td>\n    </tr>\n    <tr>\n      <th>1417</th>\n      <td>48.049238</td>\n      <td>17.567867</td>\n      <td>69136224</td>\n      <td>532496310</td>\n      <td>119324</td>\n      <td>84</td>\n      <td>21663436</td>\n      <td>141</td>\n      <td>1</td>\n    </tr>\n    <tr>\n      <th>1418</th>\n      <td>48.049238</td>\n      <td>17.567866</td>\n      <td>69136219</td>\n      <td>532496304</td>\n      <td>119318</td>\n      <td>81</td>\n      <td>21529932</td>\n      <td>141</td>\n      <td>1</td>\n    </tr>\n    <tr>\n      <th>1419</th>\n      <td>48.049237</td>\n      <td>17.567866</td>\n      <td>69136215</td>\n      <td>532496298</td>\n      <td>119321</td>\n      <td>80</td>\n      <td>21579600</td>\n      <td>141</td>\n      <td>1</td>\n    </tr>\n    <tr>\n      <th>1420</th>\n      <td>48.049237</td>\n      <td>17.567865</td>\n      <td>69136212</td>\n      <td>532496293</td>\n      <td>119316</td>\n      <td>68</td>\n      <td>21469375</td>\n      <td>141</td>\n      <td>1</td>\n    </tr>\n  </tbody>\n</table>\n<p>1421 rows × 9 columns</p>\n</div>"
     },
     "metadata": {},
     "output_type": "execute_result",
     "execution_count": 18
    }
   ],
   "source": [
    "ref1"
   ]
  },
  {
   "cell_type": "code",
   "execution_count": 19,
   "metadata": {
    "pycharm": {
     "name": "#%%\n",
     "is_executing": false
    }
   },
   "outputs": [
    {
     "data": {
      "text/plain": "<Figure size 432x288 with 1 Axes>",
      "image/png": "[encoded data removed]"
     },
     "metadata": {},
     "output_type": "display_data"
    }
   ],
   "source": [
    "fig = plt.figure()\n",
    "for frame in [traces1, ref1]:\n",
    "    plt.plot(frame['LON'], frame['LAT'])"
   ]
  },
  {
   "cell_type": "markdown",
   "metadata": {},
   "source": [
    "OK, so far so good"
   ]
  },
  {
   "cell_type": "code",
   "execution_count": 20,
   "metadata": {
    "pycharm": {
     "name": "#%%\n",
     "is_executing": false
    }
   },
   "outputs": [],
   "source": [
    "# divide gspeed by 100 (cm/s -> m/s)\n",
    "for frame in [ref1, traces1, ref2, traces2, traces3]:\n",
    "    frame['GSPEED'] = frame['GSPEED'].apply(lambda x: x * 0.01)"
   ]
  },
  {
   "cell_type": "code",
   "execution_count": 21,
   "metadata": {
    "pycharm": {
     "name": "#%%\n",
     "is_executing": false
    }
   },
   "outputs": [
    {
     "data": {
      "text/plain": "            LAT        LON      UTMX       UTMY    HMSL  GSPEED       CRS  \\\n0     48.049214  17.567836  69136003  532496037  119322    1.08  21910375   \n1     48.049213  17.567835  69135997  532496027  119324    1.03  21570312   \n2     48.049213  17.567834  69135990  532496019  119315    1.11  21556731   \n3     48.049212  17.567833  69135984  532496010  119315    1.12  21661797   \n4     48.049211  17.567832  69135977  532496001  119313    1.05  21701829   \n...         ...        ...       ...        ...     ...     ...       ...   \n1416  48.049239  17.567867  69136228  532496318  119330    0.97  21431455   \n1417  48.049238  17.567867  69136224  532496310  119324    0.84  21663436   \n1418  48.049238  17.567866  69136219  532496304  119318    0.81  21529932   \n1419  48.049237  17.567866  69136215  532496298  119321    0.80  21579600   \n1420  48.049237  17.567865  69136212  532496293  119316    0.68  21469375   \n\n      HACC  NXPT  \n0      141     5  \n1      141     6  \n2      141     8  \n3      141     9  \n4      141    10  \n...    ...   ...  \n1416   141     1  \n1417   141     1  \n1418   141     1  \n1419   141     1  \n1420   141     1  \n\n[1421 rows x 9 columns]",
      "text/html": "<div>\n<style scoped>\n    .dataframe tbody tr th:only-of-type {\n        vertical-align: middle;\n    }\n\n    .dataframe tbody tr th {\n        vertical-align: top;\n    }\n\n    .dataframe thead th {\n        text-align: right;\n    }\n</style>\n<table border=\"1\" class=\"dataframe\">\n  <thead>\n    <tr style=\"text-align: right;\">\n      <th></th>\n      <th>LAT</th>\n      <th>LON</th>\n      <th>UTMX</th>\n      <th>UTMY</th>\n      <th>HMSL</th>\n      <th>GSPEED</th>\n      <th>CRS</th>\n      <th>HACC</th>\n      <th>NXPT</th>\n    </tr>\n  </thead>\n  <tbody>\n    <tr>\n      <th>0</th>\n      <td>48.049214</td>\n      <td>17.567836</td>\n      <td>69136003</td>\n      <td>532496037</td>\n      <td>119322</td>\n      <td>1.08</td>\n      <td>21910375</td>\n      <td>141</td>\n      <td>5</td>\n    </tr>\n    <tr>\n      <th>1</th>\n      <td>48.049213</td>\n      <td>17.567835</td>\n      <td>69135997</td>\n      <td>532496027</td>\n      <td>119324</td>\n      <td>1.03</td>\n      <td>21570312</td>\n      <td>141</td>\n      <td>6</td>\n    </tr>\n    <tr>\n      <th>2</th>\n      <td>48.049213</td>\n      <td>17.567834</td>\n      <td>69135990</td>\n      <td>532496019</td>\n      <td>119315</td>\n      <td>1.11</td>\n      <td>21556731</td>\n      <td>141</td>\n      <td>8</td>\n    </tr>\n    <tr>\n      <th>3</th>\n      <td>48.049212</td>\n      <td>17.567833</td>\n      <td>69135984</td>\n      <td>532496010</td>\n      <td>119315</td>\n      <td>1.12</td>\n      <td>21661797</td>\n      <td>141</td>\n      <td>9</td>\n    </tr>\n    <tr>\n      <th>4</th>\n      <td>48.049211</td>\n      <td>17.567832</td>\n      <td>69135977</td>\n      <td>532496001</td>\n      <td>119313</td>\n      <td>1.05</td>\n      <td>21701829</td>\n      <td>141</td>\n      <td>10</td>\n    </tr>\n    <tr>\n      <th>...</th>\n      <td>...</td>\n      <td>...</td>\n      <td>...</td>\n      <td>...</td>\n      <td>...</td>\n      <td>...</td>\n      <td>...</td>\n      <td>...</td>\n      <td>...</td>\n    </tr>\n    <tr>\n      <th>1416</th>\n      <td>48.049239</td>\n      <td>17.567867</td>\n      <td>69136228</td>\n      <td>532496318</td>\n      <td>119330</td>\n      <td>0.97</td>\n      <td>21431455</td>\n      <td>141</td>\n      <td>1</td>\n    </tr>\n    <tr>\n      <th>1417</th>\n      <td>48.049238</td>\n      <td>17.567867</td>\n      <td>69136224</td>\n      <td>532496310</td>\n      <td>119324</td>\n      <td>0.84</td>\n      <td>21663436</td>\n      <td>141</td>\n      <td>1</td>\n    </tr>\n    <tr>\n      <th>1418</th>\n      <td>48.049238</td>\n      <td>17.567866</td>\n      <td>69136219</td>\n      <td>532496304</td>\n      <td>119318</td>\n      <td>0.81</td>\n      <td>21529932</td>\n      <td>141</td>\n      <td>1</td>\n    </tr>\n    <tr>\n      <th>1419</th>\n      <td>48.049237</td>\n      <td>17.567866</td>\n      <td>69136215</td>\n      <td>532496298</td>\n      <td>119321</td>\n      <td>0.80</td>\n      <td>21579600</td>\n      <td>141</td>\n      <td>1</td>\n    </tr>\n    <tr>\n      <th>1420</th>\n      <td>48.049237</td>\n      <td>17.567865</td>\n      <td>69136212</td>\n      <td>532496293</td>\n      <td>119316</td>\n      <td>0.68</td>\n      <td>21469375</td>\n      <td>141</td>\n      <td>1</td>\n    </tr>\n  </tbody>\n</table>\n<p>1421 rows × 9 columns</p>\n</div>"
     },
     "metadata": {},
     "output_type": "execute_result",
     "execution_count": 21
    }
   ],
   "source": [
    "ref1"
   ]
  },
  {
   "cell_type": "code",
   "execution_count": 22,
   "metadata": {
    "pycharm": {
     "name": "#%%\n",
     "is_executing": false
    }
   },
   "outputs": [],
   "source": [
    "# divide crs by 100 000\n",
    "for frame in [ref1, traces1, ref2, traces2, traces3]:\n",
    "    frame['CRS'] = frame['CRS'].apply(lambda x: x * 0.00001)"
   ]
  },
  {
   "cell_type": "code",
   "execution_count": 23,
   "metadata": {
    "pycharm": {
     "name": "#%%\n",
     "is_executing": false
    }
   },
   "outputs": [
    {
     "data": {
      "text/plain": "            LAT        LON      UTMX       UTMY    HMSL  GSPEED        CRS  \\\n0     48.049214  17.567836  69136003  532496037  119322    1.08  219.10375   \n1     48.049213  17.567835  69135997  532496027  119324    1.03  215.70312   \n2     48.049213  17.567834  69135990  532496019  119315    1.11  215.56731   \n3     48.049212  17.567833  69135984  532496010  119315    1.12  216.61797   \n4     48.049211  17.567832  69135977  532496001  119313    1.05  217.01829   \n...         ...        ...       ...        ...     ...     ...        ...   \n1416  48.049239  17.567867  69136228  532496318  119330    0.97  214.31455   \n1417  48.049238  17.567867  69136224  532496310  119324    0.84  216.63436   \n1418  48.049238  17.567866  69136219  532496304  119318    0.81  215.29932   \n1419  48.049237  17.567866  69136215  532496298  119321    0.80  215.79600   \n1420  48.049237  17.567865  69136212  532496293  119316    0.68  214.69375   \n\n      HACC  NXPT  \n0      141     5  \n1      141     6  \n2      141     8  \n3      141     9  \n4      141    10  \n...    ...   ...  \n1416   141     1  \n1417   141     1  \n1418   141     1  \n1419   141     1  \n1420   141     1  \n\n[1421 rows x 9 columns]",
      "text/html": "<div>\n<style scoped>\n    .dataframe tbody tr th:only-of-type {\n        vertical-align: middle;\n    }\n\n    .dataframe tbody tr th {\n        vertical-align: top;\n    }\n\n    .dataframe thead th {\n        text-align: right;\n    }\n</style>\n<table border=\"1\" class=\"dataframe\">\n  <thead>\n    <tr style=\"text-align: right;\">\n      <th></th>\n      <th>LAT</th>\n      <th>LON</th>\n      <th>UTMX</th>\n      <th>UTMY</th>\n      <th>HMSL</th>\n      <th>GSPEED</th>\n      <th>CRS</th>\n      <th>HACC</th>\n      <th>NXPT</th>\n    </tr>\n  </thead>\n  <tbody>\n    <tr>\n      <th>0</th>\n      <td>48.049214</td>\n      <td>17.567836</td>\n      <td>69136003</td>\n      <td>532496037</td>\n      <td>119322</td>\n      <td>1.08</td>\n      <td>219.10375</td>\n      <td>141</td>\n      <td>5</td>\n    </tr>\n    <tr>\n      <th>1</th>\n      <td>48.049213</td>\n      <td>17.567835</td>\n      <td>69135997</td>\n      <td>532496027</td>\n      <td>119324</td>\n      <td>1.03</td>\n      <td>215.70312</td>\n      <td>141</td>\n      <td>6</td>\n    </tr>\n    <tr>\n      <th>2</th>\n      <td>48.049213</td>\n      <td>17.567834</td>\n      <td>69135990</td>\n      <td>532496019</td>\n      <td>119315</td>\n      <td>1.11</td>\n      <td>215.56731</td>\n      <td>141</td>\n      <td>8</td>\n    </tr>\n    <tr>\n      <th>3</th>\n      <td>48.049212</td>\n      <td>17.567833</td>\n      <td>69135984</td>\n      <td>532496010</td>\n      <td>119315</td>\n      <td>1.12</td>\n      <td>216.61797</td>\n      <td>141</td>\n      <td>9</td>\n    </tr>\n    <tr>\n      <th>4</th>\n      <td>48.049211</td>\n      <td>17.567832</td>\n      <td>69135977</td>\n      <td>532496001</td>\n      <td>119313</td>\n      <td>1.05</td>\n      <td>217.01829</td>\n      <td>141</td>\n      <td>10</td>\n    </tr>\n    <tr>\n      <th>...</th>\n      <td>...</td>\n      <td>...</td>\n      <td>...</td>\n      <td>...</td>\n      <td>...</td>\n      <td>...</td>\n      <td>...</td>\n      <td>...</td>\n      <td>...</td>\n    </tr>\n    <tr>\n      <th>1416</th>\n      <td>48.049239</td>\n      <td>17.567867</td>\n      <td>69136228</td>\n      <td>532496318</td>\n      <td>119330</td>\n      <td>0.97</td>\n      <td>214.31455</td>\n      <td>141</td>\n      <td>1</td>\n    </tr>\n    <tr>\n      <th>1417</th>\n      <td>48.049238</td>\n      <td>17.567867</td>\n      <td>69136224</td>\n      <td>532496310</td>\n      <td>119324</td>\n      <td>0.84</td>\n      <td>216.63436</td>\n      <td>141</td>\n      <td>1</td>\n    </tr>\n    <tr>\n      <th>1418</th>\n      <td>48.049238</td>\n      <td>17.567866</td>\n      <td>69136219</td>\n      <td>532496304</td>\n      <td>119318</td>\n      <td>0.81</td>\n      <td>215.29932</td>\n      <td>141</td>\n      <td>1</td>\n    </tr>\n    <tr>\n      <th>1419</th>\n      <td>48.049237</td>\n      <td>17.567866</td>\n      <td>69136215</td>\n      <td>532496298</td>\n      <td>119321</td>\n      <td>0.80</td>\n      <td>215.79600</td>\n      <td>141</td>\n      <td>1</td>\n    </tr>\n    <tr>\n      <th>1420</th>\n      <td>48.049237</td>\n      <td>17.567865</td>\n      <td>69136212</td>\n      <td>532496293</td>\n      <td>119316</td>\n      <td>0.68</td>\n      <td>214.69375</td>\n      <td>141</td>\n      <td>1</td>\n    </tr>\n  </tbody>\n</table>\n<p>1421 rows × 9 columns</p>\n</div>"
     },
     "metadata": {},
     "output_type": "execute_result",
     "execution_count": 23
    }
   ],
   "source": [
    "ref1"
   ]
  },
  {
   "cell_type": "code",
   "execution_count": 24,
   "metadata": {
    "pycharm": {
     "is_executing": false
    }
   },
   "outputs": [],
   "source": [
    "# drop unnecessary columns\n",
    "for frame in [ref1, traces1, ref2, traces2, traces3]:\n",
    "    frame.drop(columns=['UTMX', 'UTMY', 'HMSL', 'HACC', 'NXPT'], inplace=True)"
   ]
  },
  {
   "cell_type": "code",
   "execution_count": 25,
   "metadata": {
    "pycharm": {
     "name": "#%%\n",
     "is_executing": false
    }
   },
   "outputs": [
    {
     "data": {
      "text/plain": "            LAT        LON  GSPEED        CRS\n0     48.049214  17.567836    1.08  219.10375\n1     48.049213  17.567835    1.03  215.70312\n2     48.049213  17.567834    1.11  215.56731\n3     48.049212  17.567833    1.12  216.61797\n4     48.049211  17.567832    1.05  217.01829\n...         ...        ...     ...        ...\n1416  48.049239  17.567867    0.97  214.31455\n1417  48.049238  17.567867    0.84  216.63436\n1418  48.049238  17.567866    0.81  215.29932\n1419  48.049237  17.567866    0.80  215.79600\n1420  48.049237  17.567865    0.68  214.69375\n\n[1421 rows x 4 columns]",
      "text/html": "<div>\n<style scoped>\n    .dataframe tbody tr th:only-of-type {\n        vertical-align: middle;\n    }\n\n    .dataframe tbody tr th {\n        vertical-align: top;\n    }\n\n    .dataframe thead th {\n        text-align: right;\n    }\n</style>\n<table border=\"1\" class=\"dataframe\">\n  <thead>\n    <tr style=\"text-align: right;\">\n      <th></th>\n      <th>LAT</th>\n      <th>LON</th>\n      <th>GSPEED</th>\n      <th>CRS</th>\n    </tr>\n  </thead>\n  <tbody>\n    <tr>\n      <th>0</th>\n      <td>48.049214</td>\n      <td>17.567836</td>\n      <td>1.08</td>\n      <td>219.10375</td>\n    </tr>\n    <tr>\n      <th>1</th>\n      <td>48.049213</td>\n      <td>17.567835</td>\n      <td>1.03</td>\n      <td>215.70312</td>\n    </tr>\n    <tr>\n      <th>2</th>\n      <td>48.049213</td>\n      <td>17.567834</td>\n      <td>1.11</td>\n      <td>215.56731</td>\n    </tr>\n    <tr>\n      <th>3</th>\n      <td>48.049212</td>\n      <td>17.567833</td>\n      <td>1.12</td>\n      <td>216.61797</td>\n    </tr>\n    <tr>\n      <th>4</th>\n      <td>48.049211</td>\n      <td>17.567832</td>\n      <td>1.05</td>\n      <td>217.01829</td>\n    </tr>\n    <tr>\n      <th>...</th>\n      <td>...</td>\n      <td>...</td>\n      <td>...</td>\n      <td>...</td>\n    </tr>\n    <tr>\n      <th>1416</th>\n      <td>48.049239</td>\n      <td>17.567867</td>\n      <td>0.97</td>\n      <td>214.31455</td>\n    </tr>\n    <tr>\n      <th>1417</th>\n      <td>48.049238</td>\n      <td>17.567867</td>\n      <td>0.84</td>\n      <td>216.63436</td>\n    </tr>\n    <tr>\n      <th>1418</th>\n      <td>48.049238</td>\n      <td>17.567866</td>\n      <td>0.81</td>\n      <td>215.29932</td>\n    </tr>\n    <tr>\n      <th>1419</th>\n      <td>48.049237</td>\n      <td>17.567866</td>\n      <td>0.80</td>\n      <td>215.79600</td>\n    </tr>\n    <tr>\n      <th>1420</th>\n      <td>48.049237</td>\n      <td>17.567865</td>\n      <td>0.68</td>\n      <td>214.69375</td>\n    </tr>\n  </tbody>\n</table>\n<p>1421 rows × 4 columns</p>\n</div>"
     },
     "metadata": {},
     "output_type": "execute_result",
     "execution_count": 25
    }
   ],
   "source": [
    "ref1"
   ]
  },
  {
   "cell_type": "code",
   "execution_count": 26,
   "metadata": {
    "pycharm": {
     "is_executing": false
    }
   },
   "outputs": [
    {
     "name": "stdout",
     "text": [
      "ref1 count of rows: 1421\n",
      "traces1 count of rows: 51099\n",
      "ref2 count of rows: 998\n",
      "traces2 count of rows: 29496\n",
      "traces3 count of rows: 5689\n"
     ],
     "output_type": "stream"
    }
   ],
   "source": [
    "print('ref1 count of rows: {}'.format(ref1.shape[0]))\n",
    "print('traces1 count of rows: {}'.format(traces1.shape[0]))\n",
    "print('ref2 count of rows: {}'.format(ref2.shape[0]))\n",
    "print('traces2 count of rows: {}'.format(traces2.shape[0]))\n",
    "print('traces3 count of rows: {}'.format(traces3.shape[0]))"
   ]
  },
  {
   "cell_type": "code",
   "execution_count": 27,
   "metadata": {
    "pycharm": {
     "name": "#%%\n",
     "is_executing": false
    }
   },
   "outputs": [
    {
     "name": "stdout",
     "text": [
      "Dropped 0 rows\n",
      "Dropped 14083 rows\n",
      "Dropped 0 rows\n",
      "Dropped 8058 rows\n",
      "Dropped 1100 rows\n"
     ],
     "output_type": "stream"
    }
   ],
   "source": [
    "# remove parts where the LAT and LON are not changing\n",
    "# the car was either extremely slow in those cases or still and the system kept measuring  \n",
    "for frame in [ref1, traces1, ref2, traces2, traces3]:\n",
    "    last_lat = None\n",
    "    last_lon = None\n",
    "    dropped_rows = list()\n",
    "\n",
    "    for index, row in frame.iterrows():   \n",
    "        if row['LAT'] == last_lat and row['LON'] == last_lon:\n",
    "            dropped_rows.append(index)\n",
    "            frame.drop(index, inplace=True)\n",
    "        else:\n",
    "            last_lat = row['LAT']\n",
    "            last_lon = row['LON']\n",
    "            \n",
    "    print('Dropped {} rows'.format(len(dropped_rows)))"
   ]
  },
  {
   "cell_type": "code",
   "execution_count": 28,
   "metadata": {
    "pycharm": {
     "name": "#%%\n",
     "is_executing": false
    }
   },
   "outputs": [
    {
     "name": "stdout",
     "text": [
      "ref1 count of rows: 1421\n",
      "traces1 count of rows: 37016\n",
      "ref2 count of rows: 998\n",
      "traces2 count of rows: 21438\n",
      "traces3 count of rows: 4589\n"
     ],
     "output_type": "stream"
    }
   ],
   "source": [
    "print('ref1 count of rows: {}'.format(ref1.shape[0]))\n",
    "print('traces1 count of rows: {}'.format(traces1.shape[0]))\n",
    "print('ref2 count of rows: {}'.format(ref2.shape[0]))\n",
    "print('traces2 count of rows: {}'.format(traces2.shape[0]))\n",
    "print('traces3 count of rows: {}'.format(traces3.shape[0]))"
   ]
  },
  {
   "cell_type": "code",
   "execution_count": 29,
   "metadata": {
    "pycharm": {
     "is_executing": false
    }
   },
   "outputs": [],
   "source": [
    "for frame in [ref1, traces1, ref2, traces2, traces3]:\n",
    "    frame.reset_index(drop=True, inplace=True)"
   ]
  },
  {
   "cell_type": "code",
   "execution_count": 30,
   "metadata": {
    "pycharm": {
     "name": "#%%\n",
     "is_executing": false
    }
   },
   "outputs": [],
   "source": [
    "# create columns for lat and lon af the next position and add the to the dataframe \n",
    "for frame in [ref1, traces1, ref2, traces2, traces3]:\n",
    "    next_lat = frame['LAT']\n",
    "    next_lat = next_lat.append(pd.Series([np.nan]), ignore_index=True)\n",
    "    next_lat = next_lat.iloc[1:]\n",
    "    next_lat = next_lat.reset_index(drop=True)\n",
    "    \n",
    "    next_lon = frame['LON']\n",
    "    next_lon = next_lon.append(pd.Series([np.nan]), ignore_index=True)\n",
    "    next_lon = next_lon.iloc[1:]\n",
    "    next_lon = next_lon.reset_index(drop=True)\n",
    "    \n",
    "    frame['NLAT'] = next_lat\n",
    "    frame['NLON'] = next_lon"
   ]
  },
  {
   "cell_type": "code",
   "execution_count": 31,
   "metadata": {
    "pycharm": {
     "is_executing": false
    }
   },
   "outputs": [],
   "source": [
    "# drop the last rows which contain NaN\n",
    "ref1 = ref1.dropna()\n",
    "traces1 = traces1.dropna()\n",
    "ref2 = ref2.dropna()\n",
    "traces2 = traces2.dropna()\n",
    "traces3 = traces3.dropna()"
   ]
  },
  {
   "cell_type": "code",
   "execution_count": 32,
   "metadata": {
    "pycharm": {
     "is_executing": false
    }
   },
   "outputs": [
    {
     "data": {
      "text/plain": "            LAT        LON  GSPEED        CRS       NLAT       NLON\n0     48.049214  17.567836    1.08  219.10375  48.049213  17.567835\n1     48.049213  17.567835    1.03  215.70312  48.049213  17.567834\n2     48.049213  17.567834    1.11  215.56731  48.049212  17.567833\n3     48.049212  17.567833    1.12  216.61797  48.049211  17.567832\n4     48.049211  17.567832    1.05  217.01829  48.049210  17.567832\n...         ...        ...     ...        ...        ...        ...\n1415  48.049239  17.567868    0.95  211.98998  48.049239  17.567867\n1416  48.049239  17.567867    0.97  214.31455  48.049238  17.567867\n1417  48.049238  17.567867    0.84  216.63436  48.049238  17.567866\n1418  48.049238  17.567866    0.81  215.29932  48.049237  17.567866\n1419  48.049237  17.567866    0.80  215.79600  48.049237  17.567865\n\n[1420 rows x 6 columns]",
      "text/html": "<div>\n<style scoped>\n    .dataframe tbody tr th:only-of-type {\n        vertical-align: middle;\n    }\n\n    .dataframe tbody tr th {\n        vertical-align: top;\n    }\n\n    .dataframe thead th {\n        text-align: right;\n    }\n</style>\n<table border=\"1\" class=\"dataframe\">\n  <thead>\n    <tr style=\"text-align: right;\">\n      <th></th>\n      <th>LAT</th>\n      <th>LON</th>\n      <th>GSPEED</th>\n      <th>CRS</th>\n      <th>NLAT</th>\n      <th>NLON</th>\n    </tr>\n  </thead>\n  <tbody>\n    <tr>\n      <th>0</th>\n      <td>48.049214</td>\n      <td>17.567836</td>\n      <td>1.08</td>\n      <td>219.10375</td>\n      <td>48.049213</td>\n      <td>17.567835</td>\n    </tr>\n    <tr>\n      <th>1</th>\n      <td>48.049213</td>\n      <td>17.567835</td>\n      <td>1.03</td>\n      <td>215.70312</td>\n      <td>48.049213</td>\n      <td>17.567834</td>\n    </tr>\n    <tr>\n      <th>2</th>\n      <td>48.049213</td>\n      <td>17.567834</td>\n      <td>1.11</td>\n      <td>215.56731</td>\n      <td>48.049212</td>\n      <td>17.567833</td>\n    </tr>\n    <tr>\n      <th>3</th>\n      <td>48.049212</td>\n      <td>17.567833</td>\n      <td>1.12</td>\n      <td>216.61797</td>\n      <td>48.049211</td>\n      <td>17.567832</td>\n    </tr>\n    <tr>\n      <th>4</th>\n      <td>48.049211</td>\n      <td>17.567832</td>\n      <td>1.05</td>\n      <td>217.01829</td>\n      <td>48.049210</td>\n      <td>17.567832</td>\n    </tr>\n    <tr>\n      <th>...</th>\n      <td>...</td>\n      <td>...</td>\n      <td>...</td>\n      <td>...</td>\n      <td>...</td>\n      <td>...</td>\n    </tr>\n    <tr>\n      <th>1415</th>\n      <td>48.049239</td>\n      <td>17.567868</td>\n      <td>0.95</td>\n      <td>211.98998</td>\n      <td>48.049239</td>\n      <td>17.567867</td>\n    </tr>\n    <tr>\n      <th>1416</th>\n      <td>48.049239</td>\n      <td>17.567867</td>\n      <td>0.97</td>\n      <td>214.31455</td>\n      <td>48.049238</td>\n      <td>17.567867</td>\n    </tr>\n    <tr>\n      <th>1417</th>\n      <td>48.049238</td>\n      <td>17.567867</td>\n      <td>0.84</td>\n      <td>216.63436</td>\n      <td>48.049238</td>\n      <td>17.567866</td>\n    </tr>\n    <tr>\n      <th>1418</th>\n      <td>48.049238</td>\n      <td>17.567866</td>\n      <td>0.81</td>\n      <td>215.29932</td>\n      <td>48.049237</td>\n      <td>17.567866</td>\n    </tr>\n    <tr>\n      <th>1419</th>\n      <td>48.049237</td>\n      <td>17.567866</td>\n      <td>0.80</td>\n      <td>215.79600</td>\n      <td>48.049237</td>\n      <td>17.567865</td>\n    </tr>\n  </tbody>\n</table>\n<p>1420 rows × 6 columns</p>\n</div>"
     },
     "metadata": {},
     "output_type": "execute_result",
     "execution_count": 32
    }
   ],
   "source": [
    "ref1"
   ]
  },
  {
   "cell_type": "markdown",
   "metadata": {
    "pycharm": {
     "name": "#%% md\n"
    }
   },
   "source": [
    "Still seems just fine"
   ]
  },
  {
   "cell_type": "code",
   "execution_count": 33,
   "metadata": {
    "pycharm": {
     "name": "#%%\n",
     "is_executing": false
    }
   },
   "outputs": [],
   "source": [
    "# # now it's good time to merge traces2 and traces3\n",
    "# # probably it's better idea not to merge them\n",
    "# traces2 = pd.concat([traces2, traces3])\n",
    "# traces2 = traces2.reset_index(drop=True)\n",
    "\n",
    "# traces2"
   ]
  },
  {
   "cell_type": "code",
   "execution_count": 34,
   "metadata": {
    "pycharm": {
     "name": "#%%\n",
     "is_executing": false
    }
   },
   "outputs": [],
   "source": [
    "# save normalized data\n",
    "ref1.to_csv('data/ref1.csv', index=False)\n",
    "traces1.to_csv('data/traces1.csv', index=False)\n",
    "ref2.to_csv('data/ref2.csv', index=False)\n",
    "traces2.to_csv('data/traces2-1.csv', index=False)\n",
    "traces3.to_csv('data/traces2-2.csv', index=False)"
   ]
  },
  {
   "cell_type": "code",
   "execution_count": 35,
   "metadata": {
    "pycharm": {
     "is_executing": false
    }
   },
   "outputs": [],
   "source": [
    "def separate_laps(ref, traces, traces_id):\n",
    "    points = list()\n",
    "    \n",
    "    for i in range(len(traces)):\n",
    "        points.append([traces['LON'][i], traces['LAT'][i]])\n",
    "\n",
    "    # use last points to determine normal vector\n",
    "    last_point1 = [ref['LON'].iloc[-1], ref['LAT'].iloc[-1]]\n",
    "    last_point2 = [ref['LON'].iloc[-2], ref['LAT'].iloc[-2]]\n",
    "\n",
    "    a = last_point2[0] - last_point1[0]\n",
    "    b = last_point2[1] - last_point1[1]\n",
    "\n",
    "    dst = distance.euclidean(last_point1, last_point2)\n",
    "    distance_multiplier = math.ceil(0.0001 / (2 * dst))\n",
    "\n",
    "    a = last_point1[0] - last_point2[0]\n",
    "    b = last_point1[1] - last_point2[1]\n",
    "    \n",
    "    v = np.array([a, b])\n",
    "    v_normal = np.array([-b, a])\n",
    "    start_point = np.array(last_point2)\n",
    "\n",
    "    point_top = Point(start_point + distance_multiplier * v_normal, evaluate=False)\n",
    "    point_bottom = Point(start_point - distance_multiplier * v_normal, evaluate=False)\n",
    "    start_line = Segment(point_top, point_bottom, evaluate=False)\n",
    "    \n",
    "    laps = [0]\n",
    "\n",
    "    for i in range(len(points) - 1):\n",
    "        point1 = Point(points[i][0], points[i][1], evaluate=False)\n",
    "        point2 = Point(points[i + 1][0], points[i + 1][1], evaluate=False)\n",
    "\n",
    "        if point1 == point2:\n",
    "            continue\n",
    "\n",
    "        # \"usecka\" between point1 and point2\n",
    "        segment = Segment(point1, point2, evaluate=False)\n",
    "        intersection = segment.intersection(start_line)\n",
    "\n",
    "        # add start of a new lap\n",
    "        if intersection:\n",
    "            laps.append(i + 1)\n",
    "            print('Lap ending at index: {}'.format(i))\n",
    "            \n",
    "    # save the circuits (laps)\n",
    "    for i in range(len(laps) - 1):\n",
    "        lap_df = traces.iloc[laps[i] : laps[i + 1]]\n",
    "        lap_df.to_csv('data/laps/lap{}-{}.csv'.format(traces_id, i), index=False)\n",
    "\n",
    "    # tha last circuit (lap) was not saved yet so save that one\n",
    "    lap_df = traces.iloc[laps[-1]:]\n",
    "    lap_df.to_csv('data/laps/lap{}-{}.csv'.format(traces_id, len(laps) - 1), index=False)\n",
    "            \n",
    "#     # draw laps     \n",
    "#     laps_pairs = list()\n",
    "#     for i in range(0, len(laps) - 1):\n",
    "#         laps_pairs.append([laps[i], laps[i + 1]])\n",
    "\n",
    "#     print(laps_pairs)\n",
    "\n",
    "#     fig, axes = plt.subplots(nrows=len(laps_pairs)//2,ncols=2)\n",
    "#     fig.set_size_inches(20, 50)\n",
    "\n",
    "#     for i, ax in enumerate(axes.flatten()):\n",
    "#         ax.plot(traces['LON'][laps_pairs[i][0]:laps_pairs[i][1]], traces['LAT'][laps_pairs[i][0]:laps_pairs[i][1]])    "
   ]
  },
  {
   "cell_type": "code",
   "execution_count": 36,
   "metadata": {
    "pycharm": {
     "name": "#%%\n",
     "is_executing": false
    }
   },
   "outputs": [],
   "source": [
    "# i = 3\n",
    "# lap_df = traces3.iloc[laps[i] : laps[i + 1]]\n",
    "# fig = plt.figure(figsize=(14, 10))\n",
    "# plt.plot(ref2['LON'], ref2['LAT'])\n",
    "# plt.plot(lap_df['LON'], lap_df['LAT'])\n",
    "# plt.plot([point_top[0], point_bottom[0]], [point_top[1], point_bottom[1]])"
   ]
  },
  {
   "cell_type": "code",
   "execution_count": 37,
   "metadata": {
    "pycharm": {
     "is_executing": false
    }
   },
   "outputs": [
    {
     "name": "stdout",
     "text": [
      "Lap ending at index: 2302\n",
      "Lap ending at index: 3603\n",
      "Lap ending at index: 5974\n",
      "Lap ending at index: 7470\n",
      "Lap ending at index: 8825\n",
      "Lap ending at index: 10010\n",
      "Lap ending at index: 11240\n",
      "Lap ending at index: 12464\n",
      "Lap ending at index: 13706\n",
      "Lap ending at index: 15025\n",
      "Lap ending at index: 16286\n",
      "Lap ending at index: 17483\n",
      "Lap ending at index: 18521\n",
      "Lap ending at index: 18827\n",
      "Lap ending at index: 19050\n",
      "Lap ending at index: 20032\n",
      "Lap ending at index: 21080\n",
      "Lap ending at index: 22081\n",
      "Lap ending at index: 23072\n",
      "Lap ending at index: 24160\n",
      "Lap ending at index: 25234\n",
      "Lap ending at index: 26332\n",
      "Lap ending at index: 27353\n",
      "Lap ending at index: 28454\n",
      "Lap ending at index: 29411\n",
      "Lap ending at index: 30360\n",
      "Lap ending at index: 30916\n",
      "Lap ending at index: 32132\n",
      "Lap ending at index: 33112\n",
      "Lap ending at index: 34150\n",
      "Lap ending at index: 35193\n",
      "Lap ending at index: 36146\n",
      "Lap ending at index: 36869\n"
     ],
     "output_type": "stream"
    }
   ],
   "source": [
    "separate_laps(ref1, traces1, 1)"
   ]
  },
  {
   "cell_type": "code",
   "execution_count": 38,
   "metadata": {
    "pycharm": {
     "name": "#%%\n",
     "is_executing": false
    }
   },
   "outputs": [
    {
     "name": "stdout",
     "text": [
      "Lap ending at index: 1127\n",
      "Lap ending at index: 2828\n",
      "Lap ending at index: 4031\n",
      "Lap ending at index: 5360\n",
      "Lap ending at index: 6664\n",
      "Lap ending at index: 8193\n",
      "Lap ending at index: 9556\n",
      "Lap ending at index: 10797\n",
      "Lap ending at index: 12094\n",
      "Lap ending at index: 13323\n",
      "Lap ending at index: 14783\n",
      "Lap ending at index: 16308\n",
      "Lap ending at index: 17483\n",
      "Lap ending at index: 18591\n",
      "Lap ending at index: 19402\n",
      "Lap ending at index: 21056\n"
     ],
     "output_type": "stream"
    }
   ],
   "source": [
    "separate_laps(ref2, traces2, 2)"
   ]
  },
  {
   "cell_type": "code",
   "execution_count": 39,
   "metadata": {
    "pycharm": {
     "is_executing": false
    }
   },
   "outputs": [
    {
     "name": "stdout",
     "text": [
      "Lap ending at index: 1226\n",
      "Lap ending at index: 2332\n",
      "Lap ending at index: 3594\n",
      "Lap ending at index: 4520\n"
     ],
     "output_type": "stream"
    }
   ],
   "source": [
    "separate_laps(ref2, traces3, 3)"
   ]
  },
  {
   "cell_type": "code",
   "execution_count": 39,
   "metadata": {
    "pycharm": {
     "is_executing": false
    }
   },
   "outputs": [],
   "source": []
  },
  {
   "cell_type": "code",
   "execution_count": 39,
   "metadata": {
    "pycharm": {
     "is_executing": false
    }
   },
   "outputs": [],
   "source": []
  },
  {
   "cell_type": "code",
   "execution_count": 39,
   "outputs": [],
   "source": [],
   "metadata": {
    "collapsed": false,
    "pycharm": {
     "name": "#%%\n",
     "is_executing": false
    }
   }
  },
  {
   "cell_type": "code",
   "execution_count": 39,
   "outputs": [],
   "source": [],
   "metadata": {
    "collapsed": false,
    "pycharm": {
     "name": "#%%\n",
     "is_executing": false
    }
   }
  },
  {
   "cell_type": "code",
   "execution_count": 39,
   "outputs": [],
   "source": [],
   "metadata": {
    "collapsed": false,
    "pycharm": {
     "name": "#%%\n",
     "is_executing": false
    }
   }
  },
  {
   "cell_type": "code",
   "execution_count": 39,
   "outputs": [],
   "source": [],
   "metadata": {
    "collapsed": false,
    "pycharm": {
     "name": "#%%\n",
     "is_executing": false
    }
   }
  },
  {
   "cell_type": "code",
   "execution_count": 39,
   "outputs": [],
   "source": [],
   "metadata": {
    "collapsed": false,
    "pycharm": {
     "name": "#%%\n",
     "is_executing": false
    }
   }
  },
  {
   "cell_type": "code",
   "execution_count": 39,
   "outputs": [],
   "source": [],
   "metadata": {
    "collapsed": false,
    "pycharm": {
     "name": "#%%\n",
     "is_executing": false
    }
   }
  },
  {
   "cell_type": "code",
   "execution_count": 39,
   "outputs": [],
   "source": [],
   "metadata": {
    "collapsed": false,
    "pycharm": {
     "name": "#%%\n",
     "is_executing": false
    }
   }
  },
  {
   "cell_type": "code",
   "execution_count": 39,
   "metadata": {
    "pycharm": {
     "is_executing": false
    }
   },
   "outputs": [],
   "source": []
  },
  {
   "cell_type": "code",
   "execution_count": 39,
   "metadata": {
    "pycharm": {
     "is_executing": false
    }
   },
   "outputs": [],
   "source": []
  },
  {
   "cell_type": "code",
   "execution_count": 39,
   "metadata": {
    "pycharm": {
     "name": "#%%\n",
     "is_executing": false
    }
   },
   "outputs": [],
   "source": []
  },
  {
   "cell_type": "code",
   "execution_count": 39,
   "metadata": {
    "pycharm": {
     "name": "#%%\n",
     "is_executing": false
    }
   },
   "outputs": [],
   "source": []
  },
  {
   "cell_type": "code",
   "execution_count": 39,
   "metadata": {
    "pycharm": {
     "is_executing": false
    }
   },
   "outputs": [],
   "source": []
  },
  {
   "cell_type": "code",
   "execution_count": 39,
   "metadata": {
    "pycharm": {
     "is_executing": false
    }
   },
   "outputs": [],
   "source": []
  },
  {
   "cell_type": "code",
   "execution_count": 39,
   "metadata": {
    "pycharm": {
     "is_executing": false
    }
   },
   "outputs": [],
   "source": []
  },
  {
   "cell_type": "code",
   "execution_count": 39,
   "metadata": {
    "pycharm": {
     "is_executing": false
    }
   },
   "outputs": [],
   "source": []
  }
 ],
 "metadata": {
  "kernelspec": {
   "display_name": "Python 3",
   "language": "python",
   "name": "python3"
  },
  "language_info": {
   "codemirror_mode": {
    "name": "ipython",
    "version": 3
   },
   "file_extension": ".py",
   "mimetype": "text/x-python",
   "name": "python",
   "nbconvert_exporter": "python",
   "pygments_lexer": "ipython3",
   "version": "3.6.9"
  },
  "pycharm": {
   "stem_cell": {
    "cell_type": "raw",
    "source": [],
    "metadata": {
     "collapsed": false
    }
   }
  }
 },
 "nbformat": 4,
 "nbformat_minor": 4
}