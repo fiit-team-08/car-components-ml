{
 "cells": [
  {
   "cell_type": "code",
   "execution_count": null,
   "outputs": [],
   "source": [
    "import pandas as pd\n",
    "import numpy as np\n",
    "from scipy.spatial import distance\n",
    "import matplotlib.pyplot as plt"
   ],
   "metadata": {
    "collapsed": false,
    "pycharm": {
     "name": "#%%\n"
    }
   }
  },
  {
   "cell_type": "markdown",
   "source": [
    "### Reference sample for trace 1 + more traces"
   ],
   "metadata": {
    "collapsed": false
   }
  },
  {
   "cell_type": "code",
   "execution_count": null,
   "outputs": [],
   "source": [
    "ref1 = pd.read_csv('data/feri_logy_analyza/200629_karting/kartfinal36pr3r.csv', header=None, sep=';')"
   ],
   "metadata": {
    "collapsed": false,
    "pycharm": {
     "name": "#%%\n"
    }
   }
  },
  {
   "cell_type": "code",
   "execution_count": null,
   "outputs": [],
   "source": [
    "ref1 = ref1.drop(columns=[0, 1, 3, 5, 7, 9, 11, 13, 15, 17])\n",
    "ref1.columns = ['LAT', 'LON', 'UTMX', 'UTMY', 'HMSL', 'GSPEED', 'CRS', 'HACC', 'NXPT']"
   ],
   "metadata": {
    "collapsed": false,
    "pycharm": {
     "name": "#%%\n"
    }
   }
  },
  {
   "cell_type": "code",
   "execution_count": null,
   "outputs": [],
   "source": [
    "ref1"
   ],
   "metadata": {
    "collapsed": false,
    "pycharm": {
     "name": "#%%\n"
    }
   }
  },
  {
   "cell_type": "code",
   "execution_count": null,
   "outputs": [],
   "source": [
    "traces1 = pd.read_csv('data/feri_logy_analyza/200629_karting/200629130554_gps.log', header=None, sep=';')"
   ],
   "metadata": {
    "collapsed": false,
    "pycharm": {
     "name": "#%%\n"
    }
   }
  },
  {
   "cell_type": "code",
   "execution_count": null,
   "outputs": [],
   "source": [
    "traces1 = traces1.drop(columns=[0, 1, 3, 5, 7, 9, 11, 13, 15, 17])\n",
    "traces1.columns = ['LAT', 'LON', 'UTMX', 'UTMY', 'HMSL', 'GSPEED', 'CRS', 'HACC', 'NXPT']"
   ],
   "metadata": {
    "collapsed": false,
    "pycharm": {
     "name": "#%%\n"
    }
   }
  },
  {
   "cell_type": "code",
   "execution_count": null,
   "outputs": [],
   "source": [
    "fig = plt.figure()\n",
    "for frame in [traces1, ref1]:\n",
    "    plt.plot(frame['LON'], frame['LAT'])"
   ],
   "metadata": {
    "collapsed": false,
    "pycharm": {
     "name": "#%%\n"
    }
   }
  },
  {
   "cell_type": "markdown",
   "source": [
    "### Reference sample for trace 2 + more traces"
   ],
   "metadata": {
    "collapsed": false
   }
  },
  {
   "cell_type": "code",
   "execution_count": null,
   "outputs": [],
   "source": [
    "ref2 = pd.read_csv('data/200623_academy/trasa23.csv', header=None, sep=';')\n",
    "ref2 = ref2.drop(columns=[0, 1, 3, 5, 7, 9, 11, 13, 15, 17])\n",
    "ref2.columns = ['LAT', 'LON', 'UTMX', 'UTMY', 'HMSL', 'GSPEED', 'CRS', 'HACC', 'NXPT']"
   ],
   "metadata": {
    "collapsed": false,
    "pycharm": {
     "name": "#%%\n"
    }
   }
  },
  {
   "cell_type": "code",
   "execution_count": null,
   "outputs": [],
   "source": [
    "traces2 = pd.read_csv('data/200623_academy/200623111152_gps.log', header=None, sep=';')\n",
    "traces2 = traces2.drop(columns=[0, 1, 3, 5, 7, 9, 11, 13, 15, 17])\n",
    "traces2.columns = ['LAT', 'LON', 'UTMX', 'UTMY', 'HMSL', 'GSPEED', 'CRS', 'HACC', 'NXPT']"
   ],
   "metadata": {
    "collapsed": false,
    "pycharm": {
     "name": "#%%\n"
    }
   }
  },
  {
   "cell_type": "code",
   "execution_count": null,
   "outputs": [],
   "source": [
    "fig2 = plt.figure()\n",
    "for frame in [traces2, ref2]:\n",
    "    plt.plot(frame['LON'], frame['LAT'])"
   ],
   "metadata": {
    "collapsed": false,
    "pycharm": {
     "name": "#%%\n"
    }
   }
  },
  {
   "cell_type": "code",
   "execution_count": null,
   "outputs": [],
   "source": [
    "traces3 = pd.read_csv('data/200623_academy/200623121213_gps.log', header=None, sep=';')\n",
    "traces3 = traces3.drop(columns=[0, 1, 3, 5, 7, 9, 11, 13, 15, 17])\n",
    "traces3.columns = ['LAT', 'LON', 'UTMX', 'UTMY', 'HMSL', 'GSPEED', 'CRS', 'HACC', 'NXPT']"
   ],
   "metadata": {
    "collapsed": false,
    "pycharm": {
     "name": "#%%\n"
    }
   }
  },
  {
   "cell_type": "code",
   "execution_count": null,
   "outputs": [],
   "source": [
    "fig3 = plt.figure()\n",
    "for frame in [traces3, ref2]:\n",
    "    plt.plot(frame['LON'], frame['LAT'])"
   ],
   "metadata": {
    "collapsed": false,
    "pycharm": {
     "name": "#%%\n"
    }
   }
  },
  {
   "cell_type": "markdown",
   "source": [
    "### Data normalization"
   ],
   "metadata": {
    "collapsed": false
   }
  },
  {
   "cell_type": "code",
   "execution_count": null,
   "outputs": [],
   "source": [
    "# divide lat and lon by 10 000 000\n",
    "for frame in [ref1, traces1, ref2, traces2, traces3]:\n",
    "    frame['LAT'] = frame['LAT'].apply(lambda x: x * 0.0000001)\n",
    "    frame['LON'] = frame['LON'].apply(lambda x: x * 0.0000001)\n",
    "\n",
    "# ref1['LAT'] = ref1['LAT'].apply(lambda x: x * 0.0000001)\n",
    "# ref1['LON'] = ref1['LON'].apply(lambda x: x * 0.0000001)\n",
    "# traces1['LAT'] = traces1['LAT'].apply(lambda x: x * 0.0000001)\n",
    "# traces1['LON'] = traces1['LON'].apply(lambda x: x * 0.0000001)\n",
    "# ref2['LAT'] = ref2['LAT'].apply(lambda x: x * 0.0000001)\n",
    "# ref2['LON'] = ref2['LON'].apply(lambda x: x * 0.0000001)\n",
    "# traces2['LAT'] = traces2['LAT'].apply(lambda x: x * 0.0000001)\n",
    "# traces2['LON'] = traces2['LON'].apply(lambda x: x * 0.0000001)\n",
    "# traces3['LAT'] = traces3['LAT'].apply(lambda x: x * 0.0000001)\n",
    "# traces3['LON'] = traces3['LON'].apply(lambda x: x * 0.0000001)"
   ],
   "metadata": {
    "collapsed": false,
    "pycharm": {
     "name": "#%%\n"
    }
   }
  },
  {
   "cell_type": "code",
   "execution_count": null,
   "outputs": [],
   "source": [
    "ref1"
   ],
   "metadata": {
    "collapsed": false,
    "pycharm": {
     "name": "#%%\n"
    }
   }
  },
  {
   "cell_type": "code",
   "execution_count": null,
   "outputs": [],
   "source": [
    "fig = plt.figure()\n",
    "for frame in [traces1, ref1]:\n",
    "    plt.plot(frame['LON'], frame['LAT'])"
   ],
   "metadata": {
    "collapsed": false,
    "pycharm": {
     "name": "#%%\n"
    }
   }
  },
  {
   "cell_type": "markdown",
   "source": [
    "OK, so far so good"
   ],
   "metadata": {
    "collapsed": false
   }
  },
  {
   "cell_type": "code",
   "execution_count": null,
   "outputs": [],
   "source": [
    "# divide gspeed by 100 (cm/s -> m/s)\n",
    "for frame in [ref1, traces1, ref2, traces2, traces3]:\n",
    "    frame['GSPEED'] = frame['GSPEED'].apply(lambda x: x * 0.01)\n",
    "\n",
    "# ref1['GSPEED'] = ref1['GSPEED'].apply(lambda x: x * 0.01)\n",
    "# traces1['GSPEED'] = traces1['GSPEED'].apply(lambda x: x * 0.01)\n",
    "# ref2['GSPEED'] = ref2['GSPEED'].apply(lambda x: x * 0.01)\n",
    "# traces2['GSPEED'] = traces2['GSPEED'].apply(lambda x: x * 0.01)\n",
    "# traces3['GSPEED'] = traces3['GSPEED'].apply(lambda x: x * 0.01)"
   ],
   "metadata": {
    "collapsed": false,
    "pycharm": {
     "name": "#%%\n"
    }
   }
  },
  {
   "cell_type": "code",
   "execution_count": null,
   "outputs": [],
   "source": [
    "ref1"
   ],
   "metadata": {
    "collapsed": false,
    "pycharm": {
     "name": "#%%\n"
    }
   }
  },
  {
   "cell_type": "code",
   "execution_count": null,
   "outputs": [],
   "source": [
    "# divide crs by 100 000\n",
    "for frame in [ref1, traces1, ref2, traces2, traces3]:\n",
    "    frame['CRS'] = frame['CRS'].apply(lambda x: x * 0.00001)"
   ],
   "metadata": {
    "collapsed": false,
    "pycharm": {
     "name": "#%%\n"
    }
   }
  },
  {
   "cell_type": "code",
   "execution_count": null,
   "outputs": [],
   "source": [
    "ref1"
   ],
   "metadata": {
    "collapsed": false,
    "pycharm": {
     "name": "#%%\n"
    }
   }
  },
  {
   "cell_type": "code",
   "execution_count": null,
   "outputs": [],
   "source": [
    "# drop unnecessary columns\n",
    "ref1 = ref1.drop(columns=['UTMX', 'UTMY', 'HMSL', 'HACC', 'NXPT'])\n",
    "traces1 = traces1.drop(columns=['UTMX', 'UTMY', 'HMSL', 'HACC', 'NXPT'])\n",
    "ref2 = ref2.drop(columns=['UTMX', 'UTMY', 'HMSL', 'HACC', 'NXPT'])\n",
    "traces2 = traces2.drop(columns=['UTMX', 'UTMY', 'HMSL', 'HACC', 'NXPT'])\n",
    "traces3 = traces3.drop(columns=['UTMX', 'UTMY', 'HMSL', 'HACC', 'NXPT'])"
   ],
   "metadata": {
    "collapsed": false,
    "pycharm": {
     "name": "#%%\n"
    }
   }
  },
  {
   "cell_type": "code",
   "execution_count": null,
   "outputs": [],
   "source": [
    "ref1"
   ],
   "metadata": {
    "collapsed": false,
    "pycharm": {
     "name": "#%%\n"
    }
   }
  },
  {
   "cell_type": "code",
   "execution_count": null,
   "outputs": [],
   "source": [
    "# create columns for lat and lon af the next position and add the to the dataframe \n",
    "for frame in [ref1, traces1, ref2, traces2, traces3]:\n",
    "    next_lat = frame['LAT']\n",
    "    next_lat = next_lat.append(pd.Series([np.nan]), ignore_index=True)\n",
    "    next_lat = next_lat.iloc[1:]\n",
    "    next_lat = next_lat.reset_index(drop=True)\n",
    "    \n",
    "    next_lon = frame['LON']\n",
    "    next_lon = next_lon.append(pd.Series([np.nan]), ignore_index=True)\n",
    "    next_lon = next_lon.iloc[1:]\n",
    "    next_lon = next_lon.reset_index(drop=True)\n",
    "    \n",
    "    frame['NLAT'] = next_lat\n",
    "    frame['NLON'] = next_lon"
   ],
   "metadata": {
    "collapsed": false,
    "pycharm": {
     "name": "#%%\n"
    }
   }
  },
  {
   "cell_type": "code",
   "execution_count": null,
   "outputs": [],
   "source": [
    "ref1"
   ],
   "metadata": {
    "collapsed": false,
    "pycharm": {
     "name": "#%%\n"
    }
   }
  },
  {
   "cell_type": "markdown",
   "source": [
    "Still seems just fine"
   ],
   "metadata": {
    "collapsed": false
   }
  },
  {
   "cell_type": "code",
   "execution_count": null,
   "outputs": [],
   "source": [
    "# now it's good time to merge traces2 and traces3\n",
    "traces2 = pd.concat([traces2, traces3])\n",
    "traces2 = traces2.reset_index(drop=True)"
   ],
   "metadata": {
    "collapsed": false,
    "pycharm": {
     "name": "#%%\n"
    }
   }
  },
  {
   "cell_type": "code",
   "execution_count": null,
   "outputs": [],
   "source": [
    "traces2"
   ],
   "metadata": {
    "collapsed": false,
    "pycharm": {
     "name": "#%%\n"
    }
   }
  },
  {
   "cell_type": "code",
   "execution_count": null,
   "outputs": [],
   "source": [
    "# save normalized data\n",
    "ref1.to_csv('data/ref1.csv', index=False)\n",
    "traces1.to_csv('data/traces1.csv', index=False)\n",
    "ref2.to_csv('data/ref2.csv', index=False)\n",
    "traces2.to_csv('data/traces2.csv', index=False)"
   ],
   "metadata": {
    "collapsed": false,
    "pycharm": {
     "name": "#%%\n"
    }
   }
  },
  {
   "cell_type": "code",
   "execution_count": null,
   "outputs": [],
   "source": [
    "distance.euclidean((ref1['LAT'][0], ref1['LON'][0]), (ref1['NLAT'][0], ref1['NLON'][0]))"
   ],
   "metadata": {
    "collapsed": false,
    "pycharm": {
     "name": "#%%\n"
    }
   }
  },
  {
   "cell_type": "code",
   "execution_count": null,
   "outputs": [],
   "source": [
    "start = True\n",
    "start_point = 0\n",
    "traces = list()\n",
    "\n",
    "ref_dist = distance.euclidean((traces1['LAT'][0], traces1['LON'][0]), (traces1['LAT'][1], traces1['LON'][1])) * 5.58\n",
    "\n",
    "i = 0\n",
    "while i < len(traces1):\n",
    "    if start:\n",
    "        i += 50\n",
    "        start = False\n",
    "        continue\n",
    "        \n",
    "    if (distance.euclidean((traces1['LAT'][start_point], traces1['LON'][start_point]), \n",
    "                           (traces1['LAT'][i], traces1['LON'][i])) < ref_dist):\n",
    "#         print(i, traces1['LAT'][i], traces1['LON'][i])\n",
    "        start = True\n",
    "        traces.append([start_point, i])\n",
    "\n",
    "        start_point = i     \n",
    "    i += 1"
   ],
   "metadata": {
    "collapsed": false,
    "pycharm": {
     "name": "#%%\n"
    }
   }
  },
  {
   "cell_type": "code",
   "execution_count": null,
   "outputs": [],
   "source": [
    "len(traces)"
   ],
   "metadata": {
    "collapsed": false,
    "pycharm": {
     "name": "#%%\n"
    }
   }
  },
  {
   "cell_type": "code",
   "execution_count": null,
   "outputs": [],
   "source": [
    "fig, axes = plt.subplots(nrows=len(traces)//2,ncols=2)\n",
    "fig.set_size_inches(20, 50)\n",
    "\n",
    "for i, ax in enumerate(axes.flatten()):\n",
    "    ax.plot(traces1['LON'][traces[i][0]:traces[i][1]], traces1['LAT'][traces[i][0]:traces[i][1]])"
   ],
   "metadata": {
    "collapsed": false,
    "pycharm": {
     "name": "#%%\n"
    }
   }
  },
  {
   "cell_type": "code",
   "execution_count": null,
   "outputs": [],
   "source": [
    "size = 1420\n",
    "i = 0\n",
    "laps = list()\n",
    "\n",
    "while i < len(traces1):\n",
    "    laps.append([i, i + size])\n",
    "    i += size\n",
    "    \n",
    "laps[-1][1] = len(traces1) - 1\n",
    "len(laps)"
   ],
   "metadata": {
    "collapsed": false,
    "pycharm": {
     "name": "#%%\n"
    }
   }
  },
  {
   "cell_type": "code",
   "execution_count": null,
   "outputs": [],
   "source": [
    "fig, axes = plt.subplots(nrows=len(laps)//2,ncols=2)\n",
    "fig.set_size_inches(20, 50)\n",
    "\n",
    "for i, ax in enumerate(axes.flatten()):\n",
    "    ax.plot(traces1['LON'][laps[i][0]:laps[i][1]], traces1['LAT'][laps[i][0]:laps[i][1]])"
   ],
   "metadata": {
    "collapsed": false,
    "pycharm": {
     "name": "#%%\n"
    }
   }
  },
  {
   "cell_type": "code",
   "execution_count": null,
   "outputs": [],
   "source": [
    "from sympy import Point, Line\n",
    "\n",
    "# akoze kolmica na lajnu z prveho a druheho bodu na trase\n",
    "p1, p2 = Point(0, 0), Point(1, 1)\n",
    "l1 = Line(p1, p2)\n",
    "\n",
    "# akoze lajna medzi 2 inymi pointami\n",
    "p3, p4 = Point(0, 1), Point(1, 0)\n",
    "l2 = Line(p3, p4)"
   ],
   "metadata": {
    "collapsed": false,
    "pycharm": {
     "name": "#%%\n"
    }
   }
  },
  {
   "cell_type": "code",
   "execution_count": null,
   "outputs": [],
   "source": [
    "l1.intersection(l2)"
   ],
   "metadata": {
    "collapsed": false,
    "pycharm": {
     "name": "#%%\n"
    }
   }
  },
  {
   "cell_type": "code",
   "execution_count": null,
   "outputs": [],
   "source": [
    "# vyssie som zistila intersection a mozem porovnat ci je ten intersection medzi zadanymi bodami p3,p4\n",
    "# a zaroven ci je medzi bodmi p1 a p2 ktore predstavuju hranuju nasej kolmej lajny\n",
    "# ako este ziskame tu kolmu lajnu?\n",
    "\n",
    "# majme x1,y1 a x2,y2 ako prve 2 pointiky na drahe\n",
    "# a z nich dostaneme vektor, a zaciatok je v bode x1,y1\n",
    "v1 = [x2 - x1, y2 - y1]\n",
    "a = x2 - x1\n",
    "b = y2 - y1\n",
    "# teraz chceme kolmy vektor a ked v1 == [a, b] tak kolmy vektor je\n",
    "v2 = [-b, a]\n",
    "# ten tusim ma rovnaky zaciatocny bod x1,y1 (moja matika je rusty trochu)\n",
    "# teoreticky tentovektor ani nemusim nikam dalej posuvat, prechadza bodom 0, na nase hranicne body na malej lajne \n",
    "# vieme pouzit tento vektor a pociatocny bod ze pripocitame nejaky nasobok vektora do jednej strany a odcitame \n",
    "# rovnaky nasobok nech mame rovnaku cast lajny aj na druhej strane\n",
    "\n",
    "# s tymto staci len preiterovat vsetky traces, ulozit si do listu intervaly pre jednotlive okruhy \n",
    "# a potom okruhy ulozit do zvlast filov"
   ],
   "metadata": {
    "collapsed": false,
    "pycharm": {
     "name": "#%%\n"
    }
   }
  },
  {
   "cell_type": "code",
   "execution_count": null,
   "outputs": [],
   "source": [],
   "metadata": {
    "collapsed": false,
    "pycharm": {
     "name": "#%%\n"
    }
   }
  },
  {
   "cell_type": "code",
   "execution_count": null,
   "outputs": [],
   "source": [],
   "metadata": {
    "collapsed": false,
    "pycharm": {
     "name": "#%%\n"
    }
   }
  },
  {
   "cell_type": "code",
   "execution_count": null,
   "outputs": [],
   "source": [],
   "metadata": {
    "collapsed": false,
    "pycharm": {
     "name": "#%%\n"
    }
   }
  }
 ],
 "metadata": {
  "kernelspec": {
   "display_name": "Python 3",
   "language": "python",
   "name": "python3"
  },
  "language_info": {
   "codemirror_mode": {
    "name": "ipython",
    "version": 3
   },
   "file_extension": ".py",
   "mimetype": "text/x-python",
   "name": "python",
   "nbconvert_exporter": "python",
   "pygments_lexer": "ipython3",
   "version": "3.6.9"
  },
  "pycharm": {
   "stem_cell": {
    "cell_type": "raw",
    "source": [],
    "metadata": {
     "collapsed": false
    }
   }
  }
 },
 "nbformat": 4,
 "nbformat_minor": 4
}